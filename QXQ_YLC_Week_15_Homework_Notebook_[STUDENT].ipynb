{
  "nbformat": 4,
  "nbformat_minor": 5,
  "metadata": {
    "kernelspec": {
      "display_name": "Qiskit v0.31.0 (ipykernel)",
      "language": "python",
      "name": "python3"
    },
    "language_info": {
      "codemirror_mode": {
        "name": "ipython",
        "version": 3
      },
      "file_extension": ".py",
      "mimetype": "text/x-python",
      "name": "python",
      "nbconvert_exporter": "python",
      "pygments_lexer": "ipython3",
      "version": "3.8.10"
    },
    "colab": {
      "provenance": [],
      "include_colab_link": true
    }
  },
  "cells": [
    {
      "cell_type": "markdown",
      "metadata": {
        "id": "view-in-github",
        "colab_type": "text"
      },
      "source": [
        "<a href=\"https://colab.research.google.com/github/LazaroR-u/QubitxQubit/blob/main/QXQ_YLC_Week_15_Homework_Notebook_%5BSTUDENT%5D.ipynb\" target=\"_parent\"><img src=\"https://colab.research.google.com/assets/colab-badge.svg\" alt=\"Open In Colab\"/></a>"
      ]
    },
    {
      "cell_type": "markdown",
      "source": [
        "# **Homework 15: Complexity of Algorithms**\n",
        "---\n",
        "\n",
        "### **Description**\n",
        "Today, you will work with two of the most famous classical search algorithms: linear and binary search. You will implement and analyze their performance.\n",
        "\n",
        "\n",
        "\n",
        "<br>\n",
        "\n",
        "### **Structure**\n",
        "**Part 1**: [Linear Search](#p1)\n",
        "\n",
        "**Part 2**: [Binary Search](#p2)\n",
        "\n",
        "\n",
        "<br>\n",
        "\n",
        "### **Learning Objectives**\n",
        "By the end of this assignment, you will:\n",
        "* Recognize how to compare algorithms using big-O notation.\n",
        "* Recognize the limits of classical search algorithms for unordered lists.\n",
        "\n",
        "\n",
        "<br>\n",
        "\n",
        "### **Resources**\n",
        "\n",
        "\n",
        "<br>\n",
        "\n",
        "**Before starting, run the code below to import all necessary functions and libraries.**"
      ],
      "metadata": {
        "id": "1s-9JC7kWwrY"
      },
      "id": "1s-9JC7kWwrY"
    },
    {
      "cell_type": "code",
      "execution_count": 66,
      "metadata": {
        "id": "LxC62c-hRcYv",
        "outputId": "3a368ed9-8765-45c8-dad1-97d4dcc032aa",
        "colab": {
          "base_uri": "https://localhost:8080/"
        }
      },
      "outputs": [
        {
          "output_type": "stream",
          "name": "stdout",
          "text": [
            "Libraries imported successfully!\n"
          ]
        }
      ],
      "source": [
        "# @title\n",
        "# Importing other python libraries\n",
        "import random\n",
        "import matplotlib.pyplot as plt\n",
        "import warnings\n",
        "warnings.filterwarnings(\"ignore\")\n",
        "\n",
        "print(\"Libraries imported successfully!\")"
      ],
      "id": "LxC62c-hRcYv"
    },
    {
      "cell_type": "markdown",
      "metadata": {
        "jp-MarkdownHeadingCollapsed": true,
        "tags": [],
        "id": "sVwVviQORgWa"
      },
      "source": [
        "<a name=\"p1\"></a>\n",
        "\n",
        "---\n",
        "## **Part 1: Linear Search**\n",
        "---\n",
        "\n",
        "In this section, we will implement and analyze the linear search algorithm."
      ],
      "id": "sVwVviQORgWa"
    },
    {
      "cell_type": "markdown",
      "source": [
        "#### **Problem #1.1**\n",
        "\n",
        "Create code to implement linear search for a list of numbers. We will use the following variables:\n",
        "* `list_items`: A list of numbers from 0 to 99 that we will search through.\n",
        "* `marked_item`: A randomly selected number from the list that we will search for.\n",
        "* `number_queries`: A count of how many times we need to query the list to find the marked item."
      ],
      "metadata": {
        "id": "ygbX_FcFUVuL"
      },
      "id": "ygbX_FcFUVuL"
    },
    {
      "cell_type": "code",
      "source": [
        "list_items = range(100) # COMPLETE THIS CODE\n",
        "marked_item = random.choice(list_items) # COMPLETE THIS CODE\n",
        "\n",
        "print(list_items)\n",
        "print(marked_item)\n",
        "\n",
        "number_queries = 0\n",
        "for item in list_items:\n",
        "\n",
        "    number_queries = number_queries + 1\n",
        "\n",
        "    if item == marked_item:\n",
        "        print(str(marked_item) + \" has been found in \" + str(number_queries) + \" queries.\")\n",
        "        break"
      ],
      "metadata": {
        "id": "R2D2dcD3TfMi",
        "outputId": "6006330f-dd3d-4e8b-f8a3-b02e768eb91a",
        "colab": {
          "base_uri": "https://localhost:8080/"
        }
      },
      "id": "R2D2dcD3TfMi",
      "execution_count": 67,
      "outputs": [
        {
          "output_type": "stream",
          "name": "stdout",
          "text": [
            "range(0, 100)\n",
            "37\n",
            "37 has been found in 38 queries.\n"
          ]
        }
      ]
    },
    {
      "cell_type": "markdown",
      "source": [
        "#### **Problem #1.2**\n",
        "\n",
        "Code a function called `lin_search` such that it:\n",
        "* Takes `num` and `target` as input parameters.\n",
        "* `num` is the number of elemenst in `list_items`.\n",
        "* `target` is the `marked_item` to search for.\n",
        "* Returns the number of queries `marked_item` was found in."
      ],
      "metadata": {
        "id": "YcEAj6cjXqNu"
      },
      "id": "YcEAj6cjXqNu"
    },
    {
      "cell_type": "code",
      "source": [
        "def lin_search(num, target):\n",
        "  list_items = range(num)\n",
        "\n",
        "  marked_item = target\n",
        "  num_queries = 0\n",
        "  for item in list_items:\n",
        "\n",
        "    num_queries = num_queries + 1\n",
        "\n",
        "    if item == marked_item:\n",
        "      print(\"The target \" + str(target) + \" was found in \" + str(num_queries) + \" query\")\n",
        "    else:\n",
        "      pass\n",
        "      # COMPLETE THIS CODE"
      ],
      "metadata": {
        "id": "5aey3xJ6Y9O7"
      },
      "id": "5aey3xJ6Y9O7",
      "execution_count": 68,
      "outputs": []
    },
    {
      "cell_type": "code",
      "source": [
        "lin_search(100, 16)"
      ],
      "metadata": {
        "id": "SRL-W_iI8LxM",
        "outputId": "64c9e7fa-3197-467c-9f00-7ebeb1b0da97",
        "colab": {
          "base_uri": "https://localhost:8080/"
        }
      },
      "id": "SRL-W_iI8LxM",
      "execution_count": 69,
      "outputs": [
        {
          "output_type": "stream",
          "name": "stdout",
          "text": [
            "The target 16 was found in 17 query\n"
          ]
        }
      ]
    },
    {
      "cell_type": "markdown",
      "metadata": {
        "jp-MarkdownHeadingCollapsed": true,
        "tags": [],
        "id": "WFmS9OGla44n"
      },
      "source": [
        "<a name=\"p2\"></a>\n",
        "\n",
        "---\n",
        "## **Part 2: Binary Search**\n",
        "---\n",
        "\n",
        "In this section, we will implement and analyze the binary search algorithm. We will also visually compare it to the linear search algorithm we implemented above.\n"
      ],
      "id": "WFmS9OGla44n"
    },
    {
      "cell_type": "markdown",
      "source": [
        "#### **Problem #2.1**\n",
        "\n",
        "Complete the code below to implement binary search for a list of numbers. We will use the following variables:\n",
        "* `list_items`: A list of numbers from 0 to 99 that we will search through.\n",
        "* `marked_item`: A randomly selected number from the list that we will search for.\n",
        "* `number_queries`: A count of how many times we need to query the list to find the marked item."
      ],
      "metadata": {
        "id": "xXt3_XDQa44o"
      },
      "id": "xXt3_XDQa44o"
    },
    {
      "cell_type": "code",
      "source": [
        "list_items = range(100) # COMPLETE THIS CODE\n",
        "marked_item = 0 # random.choice(list_items)\n",
        "\n",
        "left = 0\n",
        "right = len(list_items) - 1\n",
        "\n",
        "number_queries = 0\n",
        "for item in list_items:\n",
        "\n",
        "  number_queries = number_queries + 1  # COMPLETE THIS LINE\n",
        "\n",
        "  middle = int((left + right)/2)\n",
        "  if list_items[middle] > marked_item:\n",
        "    right = middle\n",
        "    print(middle)\n",
        "  elif list_items[middle] < marked_item:\n",
        "    left = middle\n",
        "    print(middle)\n",
        "  else:\n",
        "    print(str(marked_item) + \" has been found in \" + str(number_queries) + \" queries.\")\n",
        "    break"
      ],
      "metadata": {
        "id": "rWtwzpWGa44o",
        "outputId": "05c35480-bdc4-475e-a806-298dbc7e5908",
        "colab": {
          "base_uri": "https://localhost:8080/"
        }
      },
      "execution_count": 70,
      "outputs": [
        {
          "output_type": "stream",
          "name": "stdout",
          "text": [
            "49\n",
            "24\n",
            "12\n",
            "6\n",
            "3\n",
            "1\n",
            "0 has been found in 7 queries.\n"
          ]
        }
      ],
      "id": "rWtwzpWGa44o"
    },
    {
      "cell_type": "markdown",
      "source": [
        "####**Problem #2.2**\n",
        "Code a function called `bin_search` such that it:\n",
        "* Takes `num` and `target` as input parameters.\n",
        "* `num` is the number of elemenst in `list_items`.\n",
        "* `target` is the `marked_item` to search for.\n",
        "* Returns the number of queries `marked_item` was found in."
      ],
      "metadata": {
        "id": "TmcfgEBJaZjG"
      },
      "id": "TmcfgEBJaZjG"
    },
    {
      "cell_type": "code",
      "source": [
        "def bin_search(num, target):\n",
        "  list_items = range(num)\n",
        "  marked_item = target\n",
        "\n",
        "  left = 0\n",
        "  right = len(list_items) - 1\n",
        "\n",
        "  num_queries = 0\n",
        "\n",
        "  for item in list_items:\n",
        "\n",
        "    middle = int((left + right)/2)\n",
        "    num_queries = num_queries + 1\n",
        "    if list_items[middle] > marked_item:\n",
        "      right = middle\n",
        "\n",
        "    elif list_items[middle] < marked_item:\n",
        "      left = middle\n",
        "\n",
        "    else:\n",
        "      return print(\"The target \" + str(target) + \" was found in \" + str(num_queries) + \" queries.\")\n",
        "    # COMPLETE THIS CODE"
      ],
      "metadata": {
        "id": "wm3F3mQ3aiOo"
      },
      "id": "wm3F3mQ3aiOo",
      "execution_count": 71,
      "outputs": []
    },
    {
      "cell_type": "code",
      "source": [
        "bin_search(100, 0)"
      ],
      "metadata": {
        "id": "ELIeJouX_L-e",
        "outputId": "dc5e09d2-f75b-4b21-deee-6ab54f88e29b",
        "colab": {
          "base_uri": "https://localhost:8080/"
        }
      },
      "id": "ELIeJouX_L-e",
      "execution_count": 72,
      "outputs": [
        {
          "output_type": "stream",
          "name": "stdout",
          "text": [
            "The target 0 was found in 7 queries.\n"
          ]
        }
      ]
    },
    {
      "cell_type": "markdown",
      "source": [
        "####**Problem #2.3**\n",
        "Using the `lin_search` and `bin_search` functions you defined, search for the number 98 in list of 100 elements. Which method finds the number faster?"
      ],
      "metadata": {
        "id": "WuCzZam2atau"
      },
      "id": "WuCzZam2atau"
    },
    {
      "cell_type": "code",
      "source": [
        "lin_search(100, 98)# COMPLETE THIS CODE"
      ],
      "metadata": {
        "id": "Gc8DQkSIbk2W",
        "outputId": "d191aa8a-b887-414b-8b20-0ee890f56609",
        "colab": {
          "base_uri": "https://localhost:8080/"
        }
      },
      "id": "Gc8DQkSIbk2W",
      "execution_count": 73,
      "outputs": [
        {
          "output_type": "stream",
          "name": "stdout",
          "text": [
            "The target 98 was found in 99 query\n"
          ]
        }
      ]
    },
    {
      "cell_type": "code",
      "source": [
        "bin_search(100,98)# COMPLETE THIS CODE"
      ],
      "metadata": {
        "id": "U7uomupsbocY",
        "outputId": "e4befb22-d73f-48db-9319-2b008f8acb6d",
        "colab": {
          "base_uri": "https://localhost:8080/"
        }
      },
      "id": "U7uomupsbocY",
      "execution_count": 74,
      "outputs": [
        {
          "output_type": "stream",
          "name": "stdout",
          "text": [
            "The target 98 was found in 7 queries.\n"
          ]
        }
      ]
    },
    {
      "cell_type": "markdown",
      "source": [
        "####**Problem #2.4**\n",
        "Write code such that you select a random element, `var`, in a list of 10 elements. Use `lin_search` and `bin_search` to find this element. Repeat this for a list of 100 elements and 1,000 elements."
      ],
      "metadata": {
        "id": "CsEUKhplcIrX"
      },
      "id": "CsEUKhplcIrX"
    },
    {
      "cell_type": "code",
      "source": [
        "ls = range(10)\n",
        "var = random.choice(ls) # COMPLETE THIS CODE"
      ],
      "metadata": {
        "id": "4vLP6tF7ekDq"
      },
      "id": "4vLP6tF7ekDq",
      "execution_count": 75,
      "outputs": []
    },
    {
      "cell_type": "code",
      "source": [
        "lin_search(10, var)# COMPLETE THIS CODE"
      ],
      "metadata": {
        "id": "p5m_p4S2ej9d",
        "outputId": "33274e1a-e607-4751-eb7e-a564eeea876a",
        "colab": {
          "base_uri": "https://localhost:8080/"
        }
      },
      "id": "p5m_p4S2ej9d",
      "execution_count": 76,
      "outputs": [
        {
          "output_type": "stream",
          "name": "stdout",
          "text": [
            "The target 8 was found in 9 query\n"
          ]
        }
      ]
    },
    {
      "cell_type": "code",
      "source": [
        "bin_search(10, var)# COMPLETE THIS CODE"
      ],
      "metadata": {
        "id": "gDZb-j0mej4p",
        "outputId": "e3b24bce-f141-4e8d-9afd-d1b75f5576b3",
        "colab": {
          "base_uri": "https://localhost:8080/"
        }
      },
      "id": "gDZb-j0mej4p",
      "execution_count": 77,
      "outputs": [
        {
          "output_type": "stream",
          "name": "stdout",
          "text": [
            "The target 8 was found in 4 queries.\n"
          ]
        }
      ]
    },
    {
      "cell_type": "code",
      "source": [
        "ls_100 = range(100)\n",
        "var = random.choice(ls_100) # COMPLETE THIS CODE"
      ],
      "metadata": {
        "id": "qgfBnE9Tevo1"
      },
      "execution_count": 78,
      "outputs": [],
      "id": "qgfBnE9Tevo1"
    },
    {
      "cell_type": "code",
      "source": [
        "lin_search(100, 5)  # COMPLETE THIS CODE"
      ],
      "metadata": {
        "id": "o-RL6VppevpA",
        "outputId": "03e088ba-c14d-4db5-8ef4-83bfec1eb6e3",
        "colab": {
          "base_uri": "https://localhost:8080/"
        }
      },
      "execution_count": 79,
      "outputs": [
        {
          "output_type": "stream",
          "name": "stdout",
          "text": [
            "The target 5 was found in 6 query\n"
          ]
        }
      ],
      "id": "o-RL6VppevpA"
    },
    {
      "cell_type": "code",
      "source": [
        "bin_search(100, 5) # COMPLETE THIS CODE"
      ],
      "metadata": {
        "id": "kgnh-l2fevpB",
        "outputId": "dd85ed15-55cf-472c-849f-b7844c2333a7",
        "colab": {
          "base_uri": "https://localhost:8080/"
        }
      },
      "execution_count": 80,
      "outputs": [
        {
          "output_type": "stream",
          "name": "stdout",
          "text": [
            "The target 5 was found in 7 queries.\n"
          ]
        }
      ],
      "id": "kgnh-l2fevpB"
    },
    {
      "cell_type": "code",
      "source": [
        "ls_1000 = range(1000)\n",
        "var = random.choice(ls_1000) # COMPLETE THIS CODE"
      ],
      "metadata": {
        "id": "7bXvNbgSewCL"
      },
      "execution_count": 81,
      "outputs": [],
      "id": "7bXvNbgSewCL"
    },
    {
      "cell_type": "code",
      "source": [
        "lin_search(1000, var)  # COMPLETE THIS CODE"
      ],
      "metadata": {
        "id": "8LJ4vECNewCM",
        "outputId": "65d8da04-5ca8-4ad3-df09-deb98aac1f05",
        "colab": {
          "base_uri": "https://localhost:8080/"
        }
      },
      "execution_count": 82,
      "outputs": [
        {
          "output_type": "stream",
          "name": "stdout",
          "text": [
            "The target 774 was found in 775 query\n"
          ]
        }
      ],
      "id": "8LJ4vECNewCM"
    },
    {
      "cell_type": "code",
      "source": [
        "bin_search(1000, var) # COMPLETE THIS CODE"
      ],
      "metadata": {
        "id": "UuX1ALSxewCM",
        "outputId": "536a2bef-e875-4f10-8c9f-a70dba503db5",
        "colab": {
          "base_uri": "https://localhost:8080/"
        }
      },
      "execution_count": 83,
      "outputs": [
        {
          "output_type": "stream",
          "name": "stdout",
          "text": [
            "The target 774 was found in 9 queries.\n"
          ]
        }
      ],
      "id": "UuX1ALSxewCM"
    },
    {
      "cell_type": "markdown",
      "source": [
        "#End of Notebook\n",
        "---\n",
        "© 2024 The Coding School, All rights reserved"
      ],
      "metadata": {
        "id": "hQJELyD6aeJ2"
      },
      "id": "hQJELyD6aeJ2"
    }
  ]
}