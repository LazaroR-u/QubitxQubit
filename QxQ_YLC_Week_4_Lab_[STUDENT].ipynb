{
  "cells": [
    {
      "cell_type": "markdown",
      "metadata": {
        "id": "view-in-github",
        "colab_type": "text"
      },
      "source": [
        "<a href=\"https://colab.research.google.com/github/LazaroR-u/QubitxQubit/blob/main/QxQ_YLC_Week_4_Lab_%5BSTUDENT%5D.ipynb\" target=\"_parent\"><img src=\"https://colab.research.google.com/assets/colab-badge.svg\" alt=\"Open In Colab\"/></a>"
      ]
    },
    {
      "cell_type": "markdown",
      "source": [
        "# **Lab 4: Python Review Double Slit Experiment Simulator**\n",
        "---\n",
        "\n",
        "### **Description**\n",
        "In today's lab, you will review variables, functions, and objects. Then, you will use these skills to explore a simulator of the double slit experiment.\n",
        "\n",
        "<br>\n",
        "\n",
        "### **Lab Structure**\n",
        "**Part 1**: [Review](#p1)\n",
        "\n",
        "**Part 2**: [Using the Double Slit Experiment Simulator](#p2)\n",
        "\n",
        "**Part 3**: [Modifying the Double Slit Experiment Simulator](#p3)\n",
        "\n",
        "**Part 4**: [Additional Practice Problems](#p4)\n",
        "\n",
        "<br>\n",
        "\n",
        "### **Learning Objectives**\n",
        "By the end of this lab, we will:\n",
        "* Recognize how different components of the double slit experiment affect the interference pattern.\n",
        "* Understand how to modify attributes of the `doubleSlit` object to recreate interference patterns.\n",
        "\n",
        "\n",
        "<br>\n",
        "\n",
        "### **Resources**\n",
        "* [Double Slit Simulator Documentation](https://drive.google.com/file/d/1iP6t6RAFF-14IAzj8rwuLU_OzqjA7vMs/view?usp=drive_link)\n",
        "\n",
        "<br>\n",
        "\n",
        "**Before starting, run the code below to import all necessary functions and libraries.**\n"
      ],
      "metadata": {
        "id": "mbZXQ3rA3NwL"
      },
      "id": "mbZXQ3rA3NwL"
    },
    {
      "cell_type": "code",
      "source": [
        "# @title\n",
        "import matplotlib.pyplot as plt\n",
        "import numpy as np\n",
        "import scipy\n",
        "\n",
        "class waveFunction():\n",
        "  def __init__(self,d, distance_to_screen,measure_slit):\n",
        "    self.d = d\n",
        "    self.distance_to_screen = distance_to_screen\n",
        "    self.measure_slit= measure_slit\n",
        "    if not self.measure_slit:\n",
        "      self.values = np.linspace(-10,10,num=1000)\n",
        "      self.norm = scipy.integrate.trapezoid(self.evaluate_unnormalized(self.values),self.values)\n",
        "      self.probs = [0]\n",
        "      self.probs.extend([scipy.integrate.trapezoid(self.evaluate(np.linspace(self.values[i],self.values[i+1],num=100)),np.linspace(self.values[i],self.values[i+1],num=100)) for i in range(999)])\n",
        "      self.probs = self.probs/sum(self.probs)\n",
        "    else:\n",
        "      self.values = [-1*self.d/2,self.d/2]\n",
        "      self.norm = 1\n",
        "      self.probs = [0.5,0.5]\n",
        "  def evaluate(self,x):\n",
        "    if not self.measure_slit:\n",
        "      return np.cos(np.pi * self.d* x/self.distance_to_screen)**2/self.norm\n",
        "    else:\n",
        "      if float(x)== float(-1*self.d/2):\n",
        "        return 0.5\n",
        "      elif float(x)== float(self.d/2):\n",
        "        return 0.5\n",
        "      else:\n",
        "        return 0\n",
        "  def measure(self):\n",
        "    temp_value = np.random.choice(self.values, p=self.probs)\n",
        "    if self.measure_slit:\n",
        "      temp_value += np.random.normal(scale = 0.2)\n",
        "    else:\n",
        "      temp_value += np.random.uniform(low=-0.01,high=0.01)\n",
        "    return temp_value\n",
        "  def evaluate_unnormalized(self,x):\n",
        "    return np.cos(np.pi * self.d * x/self.distance_to_screen)**2\n",
        "\n",
        "class doubleSlit():\n",
        "  def __init__(self,slit_dist = 1, distance_to_screen = 10, screen_width = 200, screen_height=100, measure_slit = False):\n",
        "    self.slit_dist = slit_dist\n",
        "    self.distance_to_screen = distance_to_screen\n",
        "    self.detections_x = []\n",
        "    self.detections_y = []\n",
        "    self.screen_width = screen_width\n",
        "    self.screen_height = screen_height\n",
        "    self.measure_slit = measure_slit\n",
        "    self.wavefunction = waveFunction(self.slit_dist, self.distance_to_screen,self.measure_slit)\n",
        "  def fire_electron(self):\n",
        "    if self.slit_dist != self.wavefunction.d:\n",
        "      raise ValueError(\"slit_dist attribute has been modified. Screen must be cleared.\")\n",
        "    elif self.distance_to_screen != self.wavefunction.distance_to_screen:\n",
        "      raise ValueError(\"distance_to_screen attribute has been modified. Screen must be cleared.\")\n",
        "    detected_x = self.distance_to_screen*np.tan(self.wavefunction.measure())\n",
        "    self.detections_x.append(self.wavefunction.measure())\n",
        "    self.detections_y.append(np.random.normal(scale=1.7))\n",
        "  def show_screen(self):\n",
        "    plt.hist2d(self.detections_x,self.detections_y,[self.screen_width,self.screen_height],range=[[-10,10],[-5,5]])\n",
        "    plt.minorticks_on()\n",
        "    plt.show()\n",
        "  def show_hist(self):\n",
        "    plt.hist(self.detections_x,bins=self.screen_width)\n",
        "    plt.xlabel(\"Distance from center\")\n",
        "    plt.ylabel(\"Number of Electrons Detected\")\n",
        "    plt.minorticks_on()\n",
        "    plt.show()\n",
        "  def clear_screen(self):\n",
        "    self.detections_x = []\n",
        "    self.detections_y = []\n",
        "    self.wavefunction = waveFunction(self.slit_dist, self.distance_to_screen,self.measure_slit)\n",
        "  def electron_beam(self, num_electrons = 5000):\n",
        "    if self.slit_dist != self.wavefunction.d:\n",
        "      raise ValueError(\"slit_dist attribute has been modified. Screen must be cleared.\")\n",
        "    elif self.distance_to_screen != self.wavefunction.distance_to_screen:\n",
        "      raise ValueError(\"distance_to_screen attribute has been modified. Screen must be cleared.\")\n",
        "    for i in range(num_electrons):\n",
        "      self.fire_electron()\n",
        "print(\"Libraries imported successfully!\")"
      ],
      "metadata": {
        "id": "YAvvLhRIoqYp",
        "colab": {
          "base_uri": "https://localhost:8080/"
        },
        "outputId": "117c1351-7d35-4303-e130-0854909a63a0"
      },
      "execution_count": 1,
      "outputs": [
        {
          "output_type": "stream",
          "name": "stdout",
          "text": [
            "Libraries imported successfully!\n"
          ]
        }
      ],
      "id": "YAvvLhRIoqYp"
    },
    {
      "cell_type": "markdown",
      "source": [
        "<a name=\"p1\"></a>\n",
        "\n",
        "---\n",
        "## **Part 1: Python Review**\n",
        "---\n",
        "In this part, you will practice python skills involving variables, functions, and debugging."
      ],
      "metadata": {
        "id": "Nw4B-dNyQ2rO"
      },
      "id": "Nw4B-dNyQ2rO"
    },
    {
      "cell_type": "markdown",
      "source": [
        "####**Problem #1.1**\n",
        "\n",
        "**Together**, write code that says `\"Welcome to Lab 4!\"`."
      ],
      "metadata": {
        "id": "pY1IoD-ORnm2"
      },
      "id": "pY1IoD-ORnm2"
    },
    {
      "cell_type": "code",
      "source": [
        "# COMPLETE THIS CODE"
      ],
      "metadata": {
        "id": "-o3115thRnNT"
      },
      "id": "-o3115thRnNT",
      "execution_count": null,
      "outputs": []
    },
    {
      "cell_type": "markdown",
      "source": [
        "####**Problem #1.2**\n",
        "\n",
        "**Together** create a variable for your favorite animal. Then, using that variable, print `\"My favorite animal is the 'animal'\"`."
      ],
      "metadata": {
        "id": "FwL9gaDgcCzt"
      },
      "id": "FwL9gaDgcCzt"
    },
    {
      "cell_type": "code",
      "source": [
        "# COMPLETE THIS CODE"
      ],
      "metadata": {
        "id": "TIbjuaKLc_Qm"
      },
      "id": "TIbjuaKLc_Qm",
      "execution_count": null,
      "outputs": []
    },
    {
      "cell_type": "markdown",
      "source": [
        "####**Problem #1.3**\n",
        "\n",
        "**Together,** debug the code shown below."
      ],
      "metadata": {
        "id": "X2qfrn3Cdzwd"
      },
      "id": "X2qfrn3Cdzwd"
    },
    {
      "cell_type": "code",
      "source": [
        "groceries = apples, pears, and bananas\n",
        "\"I need to buy\""
      ],
      "metadata": {
        "colab": {
          "base_uri": "https://localhost:8080/",
          "height": 143
        },
        "id": "f4e6kZbteBCP",
        "outputId": "ec4b7af8-7464-4bca-b217-0019ac730563"
      },
      "id": "f4e6kZbteBCP",
      "execution_count": null,
      "outputs": [
        {
          "output_type": "error",
          "ename": "SyntaxError",
          "evalue": "ignored",
          "traceback": [
            "\u001b[0;36m  File \u001b[0;32m\"<ipython-input-11-34963be12c97>\"\u001b[0;36m, line \u001b[0;32m1\u001b[0m\n\u001b[0;31m    groceries = apples, pears, and bananas\u001b[0m\n\u001b[0m                               ^\u001b[0m\n\u001b[0;31mSyntaxError\u001b[0m\u001b[0;31m:\u001b[0m invalid syntax\n"
          ]
        }
      ]
    },
    {
      "cell_type": "code",
      "source": [
        "groceries"
      ],
      "metadata": {
        "id": "b2lx6ZQXOhQD"
      },
      "id": "b2lx6ZQXOhQD",
      "execution_count": null,
      "outputs": []
    },
    {
      "cell_type": "markdown",
      "source": [
        "####**Problem #1.4**\n",
        "\n",
        "**Independently**, debug the code shown below."
      ],
      "metadata": {
        "id": "ouWfW1EpejnI"
      },
      "id": "ouWfW1EpejnI"
    },
    {
      "cell_type": "code",
      "source": [
        "height = 10\n",
        "base = 5\n",
        "area = .5*base*height\n",
        "\"The area is\" area"
      ],
      "metadata": {
        "colab": {
          "base_uri": "https://localhost:8080/",
          "height": 143
        },
        "id": "Y2PgKHRIeuJP",
        "outputId": "c061a4bb-039b-4da7-ba21-d4170357ab88"
      },
      "id": "Y2PgKHRIeuJP",
      "execution_count": null,
      "outputs": [
        {
          "output_type": "error",
          "ename": "SyntaxError",
          "evalue": "ignored",
          "traceback": [
            "\u001b[0;36m  File \u001b[0;32m\"<ipython-input-1-9d90fc4f6959>\"\u001b[0;36m, line \u001b[0;32m4\u001b[0m\n\u001b[0;31m    \"The area is\" area\u001b[0m\n\u001b[0m                  ^\u001b[0m\n\u001b[0;31mSyntaxError\u001b[0m\u001b[0;31m:\u001b[0m invalid syntax\n"
          ]
        }
      ]
    },
    {
      "cell_type": "markdown",
      "source": [
        "####**Problem #1.5**\n",
        "**Independently**, assign numerical values to the variables below. Then write code to calculate the area of a triangle using your variables. Finally print the area."
      ],
      "metadata": {
        "id": "091LkanZaaAp"
      },
      "id": "091LkanZaaAp"
    },
    {
      "cell_type": "code",
      "source": [
        "base = # COMPLETE THIS CODE\n",
        "height = # COMPLETE THIS CODE\n",
        "area_triangle = # COMPLETE THIS CODE"
      ],
      "metadata": {
        "id": "Fpn5ataUbQzJ"
      },
      "id": "Fpn5ataUbQzJ",
      "execution_count": null,
      "outputs": []
    },
    {
      "cell_type": "markdown",
      "source": [
        "####**Problem #1.6**\n",
        "**Independently**, write code that finds the area of a square with the same side length as the base of your triangle. Print the area of the square."
      ],
      "metadata": {
        "id": "Yqyitm0EagUU"
      },
      "id": "Yqyitm0EagUU"
    },
    {
      "cell_type": "code",
      "source": [
        "side = # COMPLETE THIS CODE\n",
        "area_square = # COMPLETE THIS CODE"
      ],
      "metadata": {
        "id": "qUXTIeoRcW80"
      },
      "id": "qUXTIeoRcW80",
      "execution_count": null,
      "outputs": []
    },
    {
      "cell_type": "markdown",
      "source": [
        "####**Problem #1.7 [ADVANCED]**\n",
        "**Independently**, use the max function to see which area is larger."
      ],
      "metadata": {
        "id": "9i4Qxb8JakKZ"
      },
      "id": "9i4Qxb8JakKZ"
    },
    {
      "cell_type": "code",
      "source": [
        "max( # COMPLETE THIS CODE"
      ],
      "metadata": {
        "id": "RMg9bOJVcvnx"
      },
      "id": "RMg9bOJVcvnx",
      "execution_count": null,
      "outputs": []
    },
    {
      "cell_type": "markdown",
      "source": [
        "####**Problem #1.8 [ADVANCED]**\n",
        "**Independently**, use the min function to see which area is smaller."
      ],
      "metadata": {
        "id": "5z05dMfMaqAD"
      },
      "id": "5z05dMfMaqAD"
    },
    {
      "cell_type": "code",
      "source": [
        "min(# COMPLETE THIS CODE"
      ],
      "metadata": {
        "id": "3PuyzFZ0jFhz"
      },
      "id": "3PuyzFZ0jFhz",
      "execution_count": null,
      "outputs": []
    },
    {
      "cell_type": "markdown",
      "source": [
        "####**Problem #1.9 [ADVANCED]**\n",
        "\n",
        "**Independently**, use the `input` function to input your age, then use the `print` function to print `\"I am [age] years old.\"`."
      ],
      "metadata": {
        "id": "EyQ3CVidTzJi"
      },
      "id": "EyQ3CVidTzJi"
    },
    {
      "cell_type": "code",
      "source": [
        "age = # COMPLETE THIS CODE"
      ],
      "metadata": {
        "id": "XIjAuuqwUxLD"
      },
      "id": "XIjAuuqwUxLD",
      "execution_count": null,
      "outputs": []
    },
    {
      "cell_type": "markdown",
      "source": [
        "####**Problem #1.10 [ADVANCED]**\n",
        "**Independently**, use the `max` function to find which of the below variables has the greatest value."
      ],
      "metadata": {
        "id": "bBrpYXJ2VWhK"
      },
      "id": "bBrpYXJ2VWhK"
    },
    {
      "cell_type": "code",
      "source": [
        "a = 8\n",
        "b = 9\n",
        "c = 6\n",
        "\n",
        "# COMPLETE THIS CODE"
      ],
      "metadata": {
        "id": "_620LsPWVTXt"
      },
      "id": "_620LsPWVTXt",
      "execution_count": null,
      "outputs": []
    },
    {
      "cell_type": "markdown",
      "source": [
        "---\n",
        "\n",
        "<center>\n",
        "\n",
        "### **Wait for Your Instructor to Continue**\n",
        "\n",
        "---"
      ],
      "metadata": {
        "id": "GP-9d6BViWZO"
      },
      "id": "GP-9d6BViWZO"
    },
    {
      "cell_type": "markdown",
      "source": [
        "<a name=\"p2\"></a>\n",
        "\n",
        "---\n",
        "## **Part 2: Using the Double Slit Experiment Simulator**\n",
        "---\n",
        "In this part, you will learn how to use the double slit experiment simulator."
      ],
      "metadata": {
        "id": "idga37M2FsMR"
      },
      "id": "idga37M2FsMR"
    },
    {
      "cell_type": "markdown",
      "source": [
        "#### **Problem #2.1**\n",
        "**Together**, create a `doubleSlit` object using its associated function. All of its arguments are optional, so you do not need to put anything in the parentheses yet.\n"
      ],
      "metadata": {
        "id": "E90o2LJcwsMI"
      },
      "id": "E90o2LJcwsMI"
    },
    {
      "cell_type": "code",
      "source": [
        "my_experiment =  doubleSlit() # COMPLETE THIS CODE"
      ],
      "metadata": {
        "id": "ef77ha0_x9a_"
      },
      "execution_count": 4,
      "outputs": [],
      "id": "ef77ha0_x9a_"
    },
    {
      "cell_type": "markdown",
      "source": [
        "#### **Problem #2.2**\n",
        "**Together,** use the appropriate method of the `doubleSlit` object to display the screen."
      ],
      "metadata": {
        "id": "MC1X3TXGZ37i"
      },
      "id": "MC1X3TXGZ37i"
    },
    {
      "cell_type": "code",
      "source": [
        "my_experiment.show_screen() # COMPLETE THIS CODE"
      ],
      "metadata": {
        "id": "fWv_RsT1Z371",
        "outputId": "02596c8e-da2e-44bb-cbf2-a89dabd0c5b0",
        "colab": {
          "base_uri": "https://localhost:8080/",
          "height": 430
        }
      },
      "execution_count": 6,
      "outputs": [
        {
          "output_type": "display_data",
          "data": {
            "text/plain": [
              "<Figure size 640x480 with 1 Axes>"
            ],
            "image/png": "[encoded data removed]"
          },
          "metadata": {}
        }
      ],
      "id": "fWv_RsT1Z371"
    },
    {
      "cell_type": "markdown",
      "source": [
        "#### **Problem #2.3**\n",
        "**Together,** use the appropriate method of the `doubleSlit` object to fire a single electron at the screen. Then, display the screen again."
      ],
      "metadata": {
        "id": "8PdOWxldaiI3"
      },
      "id": "8PdOWxldaiI3"
    },
    {
      "cell_type": "code",
      "source": [
        "my_experiment.fire_electron()\n",
        "my_experiment.show_screen() # COMPLETE THIS CODE"
      ],
      "metadata": {
        "id": "Sjz03HZ4aiJB",
        "outputId": "7c917871-230e-46ce-a4a0-57e54d2ebc3e",
        "colab": {
          "base_uri": "https://localhost:8080/",
          "height": 430
        }
      },
      "execution_count": 7,
      "outputs": [
        {
          "output_type": "display_data",
          "data": {
            "text/plain": [
              "<Figure size 640x480 with 1 Axes>"
            ],
            "image/png": "[encoded data removed]"
          },
          "metadata": {}
        }
      ],
      "id": "Sjz03HZ4aiJB"
    },
    {
      "cell_type": "markdown",
      "source": [
        "#### **Problem #2.4**\n",
        "\n",
        "**Together**, create a  `doubleSlit` object so that you measure which slit the electron passes through. Then, fire an electron and display the screen."
      ],
      "metadata": {
        "id": "pC392V2tMicx"
      },
      "id": "pC392V2tMicx"
    },
    {
      "cell_type": "code",
      "source": [
        "double_slit = doubleSlit(measure_slit=True)\n",
        "\n",
        "# Fire an electron\n",
        "double_slit.fire_electron()\n",
        "\n",
        "# Display the screen\n",
        "double_slit.show_screen()"
      ],
      "metadata": {
        "id": "xMi_4LWCNKJR",
        "outputId": "72c71c56-4ee2-43d4-9f4f-34e0746d6a31",
        "colab": {
          "base_uri": "https://localhost:8080/",
          "height": 430
        }
      },
      "id": "xMi_4LWCNKJR",
      "execution_count": 13,
      "outputs": [
        {
          "output_type": "display_data",
          "data": {
            "text/plain": [
              "<Figure size 640x480 with 1 Axes>"
            ],
            "image/png": "[encoded data removed]"
          },
          "metadata": {}
        }
      ]
    },
    {
      "cell_type": "markdown",
      "source": [
        "####**Problem #2.5**\n",
        "**Together,** use the appropriate method to fire 500 electrons at the screen. Then, display the screen."
      ],
      "metadata": {
        "id": "gDWacRXlXuxm"
      },
      "id": "gDWacRXlXuxm"
    },
    {
      "cell_type": "code",
      "source": [
        "i=0\n",
        "while i<500:\n",
        "  double_slit.fire_electron()\n",
        "  i=i+1\n",
        "double_slit.show_screen() # COMPLETE THIS CODE"
      ],
      "metadata": {
        "id": "qptp6gcbX6Nx",
        "outputId": "07f2549b-5eae-4e46-b80e-c3dfd01bee7f",
        "colab": {
          "base_uri": "https://localhost:8080/",
          "height": 430
        }
      },
      "id": "qptp6gcbX6Nx",
      "execution_count": 14,
      "outputs": [
        {
          "output_type": "display_data",
          "data": {
            "text/plain": [
              "<Figure size 640x480 with 1 Axes>"
            ],
            "image/png": "[encoded data removed]"
          },
          "metadata": {}
        }
      ]
    },
    {
      "cell_type": "markdown",
      "source": [
        "#### **Problem #2.6**\n",
        "**Independently,** use the appropriate method to fire 10,000 electrons at the screen. Then, display the screen."
      ],
      "metadata": {
        "id": "IGZoRxPqa_5c"
      },
      "id": "IGZoRxPqa_5c"
    },
    {
      "cell_type": "code",
      "source": [
        "i=0\n",
        "while i<10000:\n",
        "  double_slit.fire_electron()\n",
        "  i=i+1\n",
        "double_slit.show_screen() # COMPLETE THIS CODE\n",
        "# COMPLETE THIS CODE"
      ],
      "metadata": {
        "id": "xKbgvbrDa_5r",
        "outputId": "17b3c0b0-309e-4e56-9596-6f64d5046361",
        "colab": {
          "base_uri": "https://localhost:8080/",
          "height": 430
        }
      },
      "execution_count": 15,
      "outputs": [
        {
          "output_type": "display_data",
          "data": {
            "text/plain": [
              "<Figure size 640x480 with 1 Axes>"
            ],
            "image/png": "[encoded data removed]"
          },
          "metadata": {}
        }
      ],
      "id": "xKbgvbrDa_5r"
    },
    {
      "cell_type": "markdown",
      "source": [
        "#### **Problem #2.7**\n",
        "**Independently,** create a  `doubleSlit` object so that you measure which slit the electron passes through. Then, fire 10000 electrons and display the screen."
      ],
      "metadata": {
        "id": "OwdAhGizzEBK"
      },
      "id": "OwdAhGizzEBK"
    },
    {
      "cell_type": "code",
      "source": [
        "# COMPLETE THIS CODE\n",
        "my_experiment3 = doubleSlit()\n",
        "\n"
      ],
      "metadata": {
        "id": "dGdXJK9KzEBU",
        "outputId": "27ef5232-eaf1-49bb-a40c-e94fad0de85d",
        "colab": {
          "base_uri": "https://localhost:8080/",
          "height": 430
        }
      },
      "execution_count": 12,
      "outputs": [
        {
          "output_type": "display_data",
          "data": {
            "text/plain": [
              "<Figure size 640x480 with 1 Axes>"
            ],
            "image/png": "[encoded data removed]"
          },
          "metadata": {}
        }
      ],
      "id": "dGdXJK9KzEBU"
    },
    {
      "cell_type": "markdown",
      "source": [
        "---\n",
        "\n",
        "<center>\n",
        "\n",
        "### **Wait for Your Instructor to Continue**\n",
        "\n",
        "---"
      ],
      "metadata": {
        "id": "4ZbVYttzFr7t"
      },
      "id": "4ZbVYttzFr7t"
    },
    {
      "cell_type": "markdown",
      "source": [
        "<a name=\"p3\"></a>\n",
        "\n",
        "---\n",
        "## **Part 3: Modifying the Double Slit Experiment Simulator**\n",
        "---\n",
        "In this part, you will see how certain modifications to the `doubleSlit` object affect the interference pattern shown on the screen."
      ],
      "metadata": {
        "id": "MEZNzRTx0RC_"
      },
      "id": "MEZNzRTx0RC_"
    },
    {
      "cell_type": "markdown",
      "source": [
        "#### **Problem #3.1**\n",
        "**Together,** debug the code below."
      ],
      "metadata": {
        "id": "TxiR12ZMyCbl"
      },
      "id": "TxiR12ZMyCbl"
    },
    {
      "cell_type": "code",
      "source": [
        "my_experiment = doubleSlit()\n",
        "my_experiment.slit_dist=3\n",
        "my_experiment.electron_beam(num_electrons=10000)\n",
        "my_experiment.show_screen()"
      ],
      "metadata": {
        "id": "vpAUkcAvyCbw",
        "colab": {
          "base_uri": "https://localhost:8080/",
          "height": 384
        },
        "outputId": "6b0022e2-166b-40aa-dce8-6dec8f92f661"
      },
      "execution_count": null,
      "outputs": [
        {
          "output_type": "error",
          "ename": "ValueError",
          "evalue": "ignored",
          "traceback": [
            "\u001b[0;31m---------------------------------------------------------------------------\u001b[0m",
            "\u001b[0;31mValueError\u001b[0m                                Traceback (most recent call last)",
            "\u001b[0;32m<ipython-input-30-5abdebc74969>\u001b[0m in \u001b[0;36m<cell line: 3>\u001b[0;34m()\u001b[0m\n\u001b[1;32m      1\u001b[0m \u001b[0mmy_experiment\u001b[0m \u001b[0;34m=\u001b[0m \u001b[0mdoubleSlit\u001b[0m\u001b[0;34m(\u001b[0m\u001b[0;34m)\u001b[0m\u001b[0;34m\u001b[0m\u001b[0;34m\u001b[0m\u001b[0m\n\u001b[1;32m      2\u001b[0m \u001b[0mmy_experiment\u001b[0m\u001b[0;34m.\u001b[0m\u001b[0mslit_dist\u001b[0m\u001b[0;34m=\u001b[0m\u001b[0;36m3\u001b[0m\u001b[0;34m\u001b[0m\u001b[0;34m\u001b[0m\u001b[0m\n\u001b[0;32m----> 3\u001b[0;31m \u001b[0mmy_experiment\u001b[0m\u001b[0;34m.\u001b[0m\u001b[0melectron_beam\u001b[0m\u001b[0;34m(\u001b[0m\u001b[0mnum_electrons\u001b[0m\u001b[0;34m=\u001b[0m\u001b[0;36m10000\u001b[0m\u001b[0;34m)\u001b[0m\u001b[0;34m\u001b[0m\u001b[0;34m\u001b[0m\u001b[0m\n\u001b[0m\u001b[1;32m      4\u001b[0m \u001b[0mmy_experiment\u001b[0m\u001b[0;34m.\u001b[0m\u001b[0mshow_screen\u001b[0m\u001b[0;34m(\u001b[0m\u001b[0;34m)\u001b[0m\u001b[0;34m\u001b[0m\u001b[0;34m\u001b[0m\u001b[0m\n",
            "\u001b[0;32m<ipython-input-29-1d5eb4368838>\u001b[0m in \u001b[0;36melectron_beam\u001b[0;34m(self, num_electrons)\u001b[0m\n\u001b[1;32m     73\u001b[0m   \u001b[0;32mdef\u001b[0m \u001b[0melectron_beam\u001b[0m\u001b[0;34m(\u001b[0m\u001b[0mself\u001b[0m\u001b[0;34m,\u001b[0m \u001b[0mnum_electrons\u001b[0m \u001b[0;34m=\u001b[0m \u001b[0;36m5000\u001b[0m\u001b[0;34m)\u001b[0m\u001b[0;34m:\u001b[0m\u001b[0;34m\u001b[0m\u001b[0;34m\u001b[0m\u001b[0m\n\u001b[1;32m     74\u001b[0m     \u001b[0;32mif\u001b[0m \u001b[0mself\u001b[0m\u001b[0;34m.\u001b[0m\u001b[0mslit_dist\u001b[0m \u001b[0;34m!=\u001b[0m \u001b[0mself\u001b[0m\u001b[0;34m.\u001b[0m\u001b[0mwavefunction\u001b[0m\u001b[0;34m.\u001b[0m\u001b[0md\u001b[0m\u001b[0;34m:\u001b[0m\u001b[0;34m\u001b[0m\u001b[0;34m\u001b[0m\u001b[0m\n\u001b[0;32m---> 75\u001b[0;31m       \u001b[0;32mraise\u001b[0m \u001b[0mValueError\u001b[0m\u001b[0;34m(\u001b[0m\u001b[0;34m\"slit_dist attribute has been modified. Screen must be cleared.\"\u001b[0m\u001b[0;34m)\u001b[0m\u001b[0;34m\u001b[0m\u001b[0;34m\u001b[0m\u001b[0m\n\u001b[0m\u001b[1;32m     76\u001b[0m     \u001b[0;32melif\u001b[0m \u001b[0mself\u001b[0m\u001b[0;34m.\u001b[0m\u001b[0mdistance_to_screen\u001b[0m \u001b[0;34m!=\u001b[0m \u001b[0mself\u001b[0m\u001b[0;34m.\u001b[0m\u001b[0mwavefunction\u001b[0m\u001b[0;34m.\u001b[0m\u001b[0mdistance_to_screen\u001b[0m\u001b[0;34m:\u001b[0m\u001b[0;34m\u001b[0m\u001b[0;34m\u001b[0m\u001b[0m\n\u001b[1;32m     77\u001b[0m       \u001b[0;32mraise\u001b[0m \u001b[0mValueError\u001b[0m\u001b[0;34m(\u001b[0m\u001b[0;34m\"distance_to_screen attribute has been modified. Screen must be cleared.\"\u001b[0m\u001b[0;34m)\u001b[0m\u001b[0;34m\u001b[0m\u001b[0;34m\u001b[0m\u001b[0m\n",
            "\u001b[0;31mValueError\u001b[0m: slit_dist attribute has been modified. Screen must be cleared."
          ]
        }
      ],
      "id": "vpAUkcAvyCbw"
    },
    {
      "cell_type": "markdown",
      "source": [
        "#### **Problem #3.2**\n",
        "**Together,** create a `doubleSlit` object that starts with a slit distance of 3."
      ],
      "metadata": {
        "id": "k1KBsQTlXJnq"
      },
      "id": "k1KBsQTlXJnq"
    },
    {
      "cell_type": "code",
      "source": [
        "my_experiment.distance_to_screen # COMPLETE THIS CODE"
      ],
      "metadata": {
        "id": "ROxw6vtLXJoF",
        "outputId": "a0ae25b2-59ed-4fd3-9007-5e8b13ea72ed",
        "colab": {
          "base_uri": "https://localhost:8080/"
        }
      },
      "execution_count": 16,
      "outputs": [
        {
          "output_type": "execute_result",
          "data": {
            "text/plain": [
              "10"
            ]
          },
          "metadata": {},
          "execution_count": 16
        }
      ],
      "id": "ROxw6vtLXJoF"
    },
    {
      "cell_type": "markdown",
      "source": [
        "####**Problem #3.3**\n",
        "\n",
        "**Independently**, create a `doubleSlit` object with a slit distance of 6, and fire an electron beam of 10,000 electrons. How do you expect this to compare to the slit distance of 3?"
      ],
      "metadata": {
        "id": "CQV6pEV9Rj4g"
      },
      "id": "CQV6pEV9Rj4g"
    },
    {
      "cell_type": "code",
      "source": [
        "my_experiment33= doubleSlit(slit_dist = 5)\n",
        "my_experiment33.electron_beam(num_electrons=10000)\n",
        "my_experiment33.show_screen()\n",
        " # COMPLETE THIS CODE"
      ],
      "metadata": {
        "id": "EyeO0cRZSGSf",
        "outputId": "b3f89569-c911-49db-c8fe-b484e31738a8",
        "colab": {
          "base_uri": "https://localhost:8080/",
          "height": 430
        }
      },
      "id": "EyeO0cRZSGSf",
      "execution_count": 18,
      "outputs": [
        {
          "output_type": "display_data",
          "data": {
            "text/plain": [
              "<Figure size 640x480 with 1 Axes>"
            ],
            "image/png": "[encoded data removed]"
          },
          "metadata": {}
        }
      ]
    },
    {
      "cell_type": "code",
      "source": [
        "my_experiment33= doubleSlit(slit_dist = 20)\n",
        "my_experiment33.electron_beam(num_electrons=10000)\n",
        "my_experiment33.show_screen()"
      ],
      "metadata": {
        "id": "Sn_3pdMngJ69",
        "outputId": "fd706ae8-9439-4b9d-a546-745f756998aa",
        "colab": {
          "base_uri": "https://localhost:8080/",
          "height": 430
        }
      },
      "id": "Sn_3pdMngJ69",
      "execution_count": 19,
      "outputs": [
        {
          "output_type": "display_data",
          "data": {
            "text/plain": [
              "<Figure size 640x480 with 1 Axes>"
            ],
            "image/png": "[encoded data removed]"
          },
          "metadata": {}
        }
      ]
    },
    {
      "cell_type": "code",
      "source": [
        "my_experiment33.distance_to_screen"
      ],
      "metadata": {
        "id": "BQqlf-m2gfXB",
        "outputId": "726c0f4d-0d70-4768-a044-8ab8f14e946c",
        "colab": {
          "base_uri": "https://localhost:8080/"
        }
      },
      "id": "BQqlf-m2gfXB",
      "execution_count": 20,
      "outputs": [
        {
          "output_type": "execute_result",
          "data": {
            "text/plain": [
              "10"
            ]
          },
          "metadata": {},
          "execution_count": 20
        }
      ]
    },
    {
      "cell_type": "markdown",
      "source": [
        "####**Problem #3.4**\n",
        "\n",
        "**Independently**, create a `doubleSlit` object with a slit distance of 50, and fire an electron beam of 10,000 electrons."
      ],
      "metadata": {
        "id": "BZZiyWz1SttX"
      },
      "id": "BZZiyWz1SttX"
    },
    {
      "cell_type": "code",
      "source": [
        "# COMPLETE THIS CODE"
      ],
      "metadata": {
        "id": "kCKA_pwXSyBs"
      },
      "id": "kCKA_pwXSyBs",
      "execution_count": null,
      "outputs": []
    },
    {
      "cell_type": "markdown",
      "source": [
        "#### **Problem #3.5**\n",
        "**Independently**, explore how changing the distance between the slits changes the interference patters. For what range of slit distances do you see an interference pattern? Print the range that you find. **Note:** Do not measure the slit.\n"
      ],
      "metadata": {
        "id": "a-wrjnFK0RDL"
      },
      "id": "a-wrjnFK0RDL"
    },
    {
      "cell_type": "code",
      "source": [
        "my_experiment33= doubleSlit(distance_to_screen= 20, slit_dist= 5)\n",
        "my_experiment33.electron_beam(num_electrons=10000)\n",
        "my_experiment33.show_screen()\n",
        "# COMPLETE THIS CODE"
      ],
      "metadata": {
        "id": "Y3n9H7KW0RDM",
        "outputId": "990ba787-884a-4758-91bc-e332774c5421",
        "colab": {
          "base_uri": "https://localhost:8080/",
          "height": 430
        }
      },
      "execution_count": 22,
      "outputs": [
        {
          "output_type": "display_data",
          "data": {
            "text/plain": [
              "<Figure size 640x480 with 1 Axes>"
            ],
            "image/png": "[encoded data removed]"
          },
          "metadata": {}
        }
      ],
      "id": "Y3n9H7KW0RDM"
    },
    {
      "cell_type": "markdown",
      "source": [
        "#### **Problem #3.6**\n",
        "**Independently,** modify the code from Problem #3.6 to find the distances between bright spots for the following distances between the slit and the screen:\n",
        "*  1\n",
        "*  1.5\n",
        "*  2\n",
        "*  2.5\n",
        "*  5\n",
        "*  10\n",
        "\n",
        "Keep the slit distance at its default value of 1. Record your results in the list `bright_spot_distances`, then run the code below to produce a line graph."
      ],
      "metadata": {
        "id": "CnVX-ca9yKIY"
      },
      "id": "CnVX-ca9yKIY"
    },
    {
      "cell_type": "code",
      "source": [
        "# COMPLETE THIS CODE"
      ],
      "metadata": {
        "id": "y8LBwGXHyKIv"
      },
      "execution_count": null,
      "outputs": [],
      "id": "y8LBwGXHyKIv"
    },
    {
      "cell_type": "markdown",
      "source": [
        "#### **Problem #3.7**\n",
        "The plot shown below was generated with a `distance_to_screen` of 20. What `slit_dist` was used?\n",
        "\n",
        "![download.png](data:image/png;base64,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)"
      ],
      "metadata": {
        "id": "_MsUbBX-0RDQ"
      },
      "id": "_MsUbBX-0RDQ"
    },
    {
      "cell_type": "code",
      "source": [
        "# COMPLETE THIS CODE"
      ],
      "metadata": {
        "id": "7ENzACOa0RDQ"
      },
      "execution_count": null,
      "outputs": [],
      "id": "7ENzACOa0RDQ"
    },
    {
      "cell_type": "markdown",
      "source": [
        "#### **Problem #3.8 [ADVANCED]**\n",
        "**Independently,** search through the documentation to find a way to create a histogram of the x coordinates of the detections. Then, create a `doubleSlit` object with a `slit_dist` of 3, fire 5,000 electrons at the screen, the display a histogram of the detections. Print the distance between the bright spots on the screen."
      ],
      "metadata": {
        "id": "Ggqwn0WErOzG"
      },
      "id": "Ggqwn0WErOzG"
    },
    {
      "cell_type": "code",
      "source": [
        "# COMPLETE THIS CODE"
      ],
      "metadata": {
        "id": "ctklaqNkrOzN"
      },
      "execution_count": null,
      "outputs": [],
      "id": "ctklaqNkrOzN"
    },
    {
      "cell_type": "code",
      "source": [
        "# COMPLETE THIS CODE"
      ],
      "metadata": {
        "id": "eTi-VRdDZYCY"
      },
      "id": "eTi-VRdDZYCY",
      "execution_count": null,
      "outputs": []
    },
    {
      "cell_type": "markdown",
      "source": [
        "#### **Problem #3.9 [ADVANCED]**\n",
        "**Independently,** modify the code from problem #3.6 to find the distances between bright spots for the following slit distances:\n",
        "*  1\n",
        "*  1.5\n",
        "*  2\n",
        "*  5\n",
        "*  10\n",
        "*  20\n",
        "\n",
        "Record your results in the list `bright_spot_distances`, then run the code below to produce a line graph."
      ],
      "metadata": {
        "id": "sLFY2hdR0RDO"
      },
      "id": "sLFY2hdR0RDO"
    },
    {
      "cell_type": "code",
      "source": [
        "# COMPLETE THIS CODE"
      ],
      "metadata": {
        "id": "uVZZeAFTr9vR"
      },
      "id": "uVZZeAFTr9vR",
      "execution_count": null,
      "outputs": []
    },
    {
      "cell_type": "code",
      "source": [
        "slit_distances = [1,1.5,2,5,10,20]\n",
        "bright_spot_distances = [] #COMPLETE THIS LIST\n",
        "\n",
        "plt.plot(slit_distances,bright_spot_distances)\n",
        "plt.xlabel(\"Distance Between Slits\")\n",
        "plt.ylabel(\"Distance Between Bright Spots in Interference Pattern\")"
      ],
      "metadata": {
        "id": "HBtiPDAbvl-5"
      },
      "id": "HBtiPDAbvl-5",
      "execution_count": null,
      "outputs": []
    },
    {
      "cell_type": "markdown",
      "source": [
        "<a name=\"p4\"></a>\n",
        "\n",
        "---\n",
        "##**Part 4: Additional Practice Problems**\n",
        "---\n",
        "This part contains optional practice problems to improve your python skills."
      ],
      "metadata": {
        "id": "dht3Xe9FULzM"
      },
      "id": "dht3Xe9FULzM"
    },
    {
      "cell_type": "markdown",
      "source": [
        "####**Problem #4.1**\n",
        "\n",
        "**Independently**, use the `print` function to print the phrase \"My favorite food is\" followed by your favorite food."
      ],
      "metadata": {
        "id": "J8ZM1BHuUyff"
      },
      "id": "J8ZM1BHuUyff"
    },
    {
      "cell_type": "code",
      "source": [
        "# COMPLETE THIS CODE"
      ],
      "metadata": {
        "id": "yTYHRXjuVPE_"
      },
      "id": "yTYHRXjuVPE_",
      "execution_count": null,
      "outputs": []
    },
    {
      "cell_type": "markdown",
      "source": [
        "####**Problem #4.2**\n",
        "**Independently**, print the third entry of the list below."
      ],
      "metadata": {
        "id": "35hBlAddVcrE"
      },
      "id": "35hBlAddVcrE"
    },
    {
      "cell_type": "code",
      "source": [
        "my_list = [3,1,4,1,5]\n",
        "# COMPLETE THIS CODE"
      ],
      "metadata": {
        "id": "_6zIK1l6VpJ2"
      },
      "id": "_6zIK1l6VpJ2",
      "execution_count": null,
      "outputs": []
    },
    {
      "cell_type": "markdown",
      "source": [
        "####**Problem #4.3**\n",
        "**Independently**, use the `input` function to create an imput that reads \"Enter Password\". Then create a `print` function that says \"Password:\". Enter the password \"Quantum123\"."
      ],
      "metadata": {
        "id": "C152rEHWWDM4"
      },
      "id": "C152rEHWWDM4"
    },
    {
      "cell_type": "code",
      "source": [
        "# COMPLETE THIS CODE"
      ],
      "metadata": {
        "id": "ZZX6alsEW5Ce"
      },
      "id": "ZZX6alsEW5Ce",
      "execution_count": null,
      "outputs": []
    },
    {
      "cell_type": "markdown",
      "source": [
        "####**Problem #4.4**\n",
        "**Independently**, write code that will find the smallest value in the below list."
      ],
      "metadata": {
        "id": "LezcHYG9XVSi"
      },
      "id": "LezcHYG9XVSi"
    },
    {
      "cell_type": "code",
      "source": [
        "my_list = [.01, .001, .006, .014]\n",
        "# COMPLETE THIS CODE"
      ],
      "metadata": {
        "id": "rBBmXjk4XsjR"
      },
      "id": "rBBmXjk4XsjR",
      "execution_count": null,
      "outputs": []
    },
    {
      "cell_type": "markdown",
      "source": [
        "####**Problem #4.5**\n",
        "**Independently**, create one variable of an animal and one variable of a place that you would see the animal. Then use the `print` function to print \"I saw the [animal] in the [place].\"."
      ],
      "metadata": {
        "id": "R8mIPzI9YPT_"
      },
      "id": "R8mIPzI9YPT_"
    },
    {
      "cell_type": "code",
      "source": [
        "# COMPLETE THIS CODE"
      ],
      "metadata": {
        "id": "dx0RbFGfY5Ce"
      },
      "id": "dx0RbFGfY5Ce",
      "execution_count": null,
      "outputs": []
    },
    {
      "cell_type": "markdown",
      "source": [
        "####**Problem #4.6**\n",
        "**Independently**, fill out the complete the variables below and run the code to create a \"Mad Lib\"."
      ],
      "metadata": {
        "id": "ivp28lFUZTSA"
      },
      "id": "ivp28lFUZTSA"
    },
    {
      "cell_type": "code",
      "source": [
        "place = # COMPLETE THIS CODE\n",
        "animal = # COMPLETE THIS CODE\n",
        "verb_ending_in_ing = # COMPLETE THIS CODE\n",
        "noun = # COMPLETE THIS CODE\n",
        "color = # COMPLETE THIS CODE\n",
        "print(\"Today I went to the \" + place + \" and I saw a \" + animal + \". The \" + animal + \" was \" + verb_ending_in_ing + \". I tried to take a picture, but before I could, I dropped my \" + noun + \". I got so embarrassed that I turned \" + color + \".\")"
      ],
      "metadata": {
        "id": "Mi9Q7hDVZqCN"
      },
      "id": "Mi9Q7hDVZqCN",
      "execution_count": null,
      "outputs": []
    },
    {
      "cell_type": "markdown",
      "source": [
        "####**Problem #4.7**\n",
        "**Independently**, debug the code shown below."
      ],
      "metadata": {
        "id": "dGH9xcuncQuP"
      },
      "id": "dGH9xcuncQuP"
    },
    {
      "cell_type": "code",
      "source": [
        "my_list = [\"1\", 2, \"3\", \"4\"]\n",
        "min(my_list)"
      ],
      "metadata": {
        "colab": {
          "base_uri": "https://localhost:8080/",
          "height": 193
        },
        "id": "cvfh2H-_cebC",
        "outputId": "a4f93625-9697-4632-cd0b-b0f7cec4b846"
      },
      "id": "cvfh2H-_cebC",
      "execution_count": null,
      "outputs": [
        {
          "output_type": "error",
          "ename": "TypeError",
          "evalue": "ignored",
          "traceback": [
            "\u001b[0;31m---------------------------------------------------------------------------\u001b[0m",
            "\u001b[0;31mTypeError\u001b[0m                                 Traceback (most recent call last)",
            "\u001b[0;32m<ipython-input-17-072ed64d2808>\u001b[0m in \u001b[0;36m<cell line: 2>\u001b[0;34m()\u001b[0m\n\u001b[1;32m      1\u001b[0m \u001b[0mmy_list\u001b[0m \u001b[0;34m=\u001b[0m \u001b[0;34m[\u001b[0m\u001b[0;34m\"1\"\u001b[0m\u001b[0;34m,\u001b[0m \u001b[0;36m2\u001b[0m\u001b[0;34m,\u001b[0m \u001b[0;34m\"3\"\u001b[0m\u001b[0;34m,\u001b[0m \u001b[0;34m\"4\"\u001b[0m\u001b[0;34m]\u001b[0m\u001b[0;34m\u001b[0m\u001b[0;34m\u001b[0m\u001b[0m\n\u001b[0;32m----> 2\u001b[0;31m \u001b[0mmin\u001b[0m\u001b[0;34m(\u001b[0m\u001b[0mmy_list\u001b[0m\u001b[0;34m)\u001b[0m\u001b[0;34m\u001b[0m\u001b[0;34m\u001b[0m\u001b[0m\n\u001b[0m",
            "\u001b[0;31mTypeError\u001b[0m: '<' not supported between instances of 'int' and 'str'"
          ]
        }
      ]
    },
    {
      "cell_type": "markdown",
      "source": [
        "####**Problem #4.8**\n",
        "**Independently**, debug the code shown below."
      ],
      "metadata": {
        "id": "2QR0ziYmcy0r"
      },
      "id": "2QR0ziYmcy0r"
    },
    {
      "cell_type": "code",
      "source": [
        "course = \"science\"\n",
        "print(\"My favorite class is \" course \"!\")"
      ],
      "metadata": {
        "colab": {
          "base_uri": "https://localhost:8080/",
          "height": 141
        },
        "id": "DfmPVomRc-I8",
        "outputId": "a62d22fb-0107-4719-944c-94efed6bcd2c"
      },
      "id": "DfmPVomRc-I8",
      "execution_count": null,
      "outputs": [
        {
          "output_type": "error",
          "ename": "SyntaxError",
          "evalue": "ignored",
          "traceback": [
            "\u001b[0;36m  File \u001b[0;32m\"<ipython-input-19-3b5027a877c3>\"\u001b[0;36m, line \u001b[0;32m2\u001b[0m\n\u001b[0;31m    print(\"My favorite class is \" course \"!\")\u001b[0m\n\u001b[0m          ^\u001b[0m\n\u001b[0;31mSyntaxError\u001b[0m\u001b[0;31m:\u001b[0m invalid syntax. Perhaps you forgot a comma?\n"
          ]
        }
      ]
    },
    {
      "cell_type": "markdown",
      "source": [
        "####**Problem #4.9**\n",
        "**Independently**, debug the code shown below."
      ],
      "metadata": {
        "id": "9SZG4MKVdgvT"
      },
      "id": "9SZG4MKVdgvT"
    },
    {
      "cell_type": "code",
      "source": [
        "my_list = [\"pie\", 3.14, \"cake\"]\n",
        "print(my_list[3])"
      ],
      "metadata": {
        "colab": {
          "base_uri": "https://localhost:8080/",
          "height": 193
        },
        "id": "WqNQHn4ndx2B",
        "outputId": "e9c8928a-b063-4ff4-d30e-c71927725c63"
      },
      "id": "WqNQHn4ndx2B",
      "execution_count": null,
      "outputs": [
        {
          "output_type": "error",
          "ename": "IndexError",
          "evalue": "ignored",
          "traceback": [
            "\u001b[0;31m---------------------------------------------------------------------------\u001b[0m",
            "\u001b[0;31mIndexError\u001b[0m                                Traceback (most recent call last)",
            "\u001b[0;32m<ipython-input-21-33dd4ce50aab>\u001b[0m in \u001b[0;36m<cell line: 2>\u001b[0;34m()\u001b[0m\n\u001b[1;32m      1\u001b[0m \u001b[0mmy_list\u001b[0m \u001b[0;34m=\u001b[0m \u001b[0;34m[\u001b[0m\u001b[0;34m\"pie\"\u001b[0m\u001b[0;34m,\u001b[0m \u001b[0;36m3.14\u001b[0m\u001b[0;34m,\u001b[0m \u001b[0;34m\"cake\"\u001b[0m\u001b[0;34m]\u001b[0m\u001b[0;34m\u001b[0m\u001b[0;34m\u001b[0m\u001b[0m\n\u001b[0;32m----> 2\u001b[0;31m \u001b[0mprint\u001b[0m\u001b[0;34m(\u001b[0m\u001b[0mmy_list\u001b[0m\u001b[0;34m[\u001b[0m\u001b[0;36m3\u001b[0m\u001b[0;34m]\u001b[0m\u001b[0;34m)\u001b[0m\u001b[0;34m\u001b[0m\u001b[0;34m\u001b[0m\u001b[0m\n\u001b[0m",
            "\u001b[0;31mIndexError\u001b[0m: list index out of range"
          ]
        }
      ]
    },
    {
      "cell_type": "markdown",
      "source": [
        "####**Problem #4.10**\n",
        "**Independently**, create a `doubleSlit` object with a slit distance of 5. Then use the appropriate method of the `doubleSlit` object to fire two electrons at the screen. Then, display the screen."
      ],
      "metadata": {
        "id": "WG6LnAsleMKX"
      },
      "id": "WG6LnAsleMKX"
    },
    {
      "cell_type": "code",
      "source": [
        "my_experiment = #COMPLETE THIS CODE"
      ],
      "metadata": {
        "id": "VSz04-y-2BAM"
      },
      "id": "VSz04-y-2BAM",
      "execution_count": null,
      "outputs": []
    },
    {
      "cell_type": "markdown",
      "source": [
        "#End of notebook\n",
        "---\n",
        "© 2023 The Coding School, All rights reserved"
      ],
      "metadata": {
        "id": "7dzC09dLlEhm"
      },
      "id": "7dzC09dLlEhm"
    }
  ],
  "metadata": {
    "kernelspec": {
      "display_name": "Python 3 (ipykernel)",
      "language": "python",
      "name": "python3"
    },
    "language_info": {
      "codemirror_mode": {
        "name": "ipython",
        "version": 3
      },
      "file_extension": ".py",
      "mimetype": "text/x-python",
      "name": "python",
      "nbconvert_exporter": "python",
      "pygments_lexer": "ipython3",
      "version": "3.8.13"
    },
    "colab": {
      "provenance": [],
      "include_colab_link": true
    }
  },
  "nbformat": 4,
  "nbformat_minor": 5
}