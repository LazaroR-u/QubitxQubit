{
  "nbformat": 4,
  "nbformat_minor": 0,
  "metadata": {
    "colab": {
      "provenance": [],
      "include_colab_link": true
    },
    "kernelspec": {
      "name": "python3",
      "display_name": "Python 3"
    },
    "language_info": {
      "name": "python"
    }
  },
  "cells": [
    {
      "cell_type": "markdown",
      "metadata": {
        "id": "view-in-github",
        "colab_type": "text"
      },
      "source": [
        "<a href=\"https://colab.research.google.com/github/LazaroR-u/QubitxQubit/blob/main/LazaroDiaz_QXQ_YLC_Week_12_Homework_%5BSTUDENT%5D.ipynb\" target=\"_parent\"><img src=\"https://colab.research.google.com/assets/colab-badge.svg\" alt=\"Open In Colab\"/></a>"
      ]
    },
    {
      "cell_type": "markdown",
      "source": [
        "# **Homework 12: Review**\n",
        "---\n",
        "\n",
        "### **Description**:\n",
        "In this assignment, you will review concepts from the first semester that will be useful for us to implement more complex quantum circuits going forward.\n",
        "\n",
        "<br>\n",
        "\n",
        "### **Structure**\n",
        "**Part 1**: [Qubits](#p1)\n",
        "\n",
        "**Part 2**: [Quantum Circuits](#p2)\n",
        "\n",
        "\n",
        "\n",
        "<br>\n",
        "\n",
        "### **Resources**\n",
        "* [Cirq Basics Cheat Sheet](https://docs.google.com/document/d/1j0vEwtS6fK-tD1DWAPry4tJdxEiq8fwMtXuYNGRhK_M/edit?usp=drive_link)\n",
        "\n",
        "\n",
        "<br>\n",
        "\n",
        "**Before starting, run the code below to import all necessary functions and libraries.**"
      ],
      "metadata": {
        "id": "xGYTBqpefO-L"
      }
    },
    {
      "cell_type": "code",
      "source": [
        "# @title\n",
        "%%capture\n",
        "import random\n",
        "import matplotlib.pyplot as plt\n",
        "import numpy as np\n",
        "def binary_labels(num_qubits):\n",
        "    return [bin(x)[2:].zfill(num_qubits) for x in range(2 ** num_qubits)]\n",
        "plt.rcParams.update({'font.size': 8})\n",
        "try:\n",
        "    import cirq\n",
        "except ImportError:\n",
        "    print(\"installing cirq...\")\n",
        "    !pip install cirq --quiet\n",
        "    import cirq\n",
        "    print(\"installed cirq.\")"
      ],
      "metadata": {
        "id": "qnUOY_K_fw7o"
      },
      "execution_count": null,
      "outputs": []
    },
    {
      "cell_type": "markdown",
      "source": [
        "<a name=\"p1\"></a>\n",
        "\n",
        "---\n",
        "## **Part 1: Qubits**\n",
        "---\n",
        "In this part, you will review how to create and work with quantum circuits in Cirq."
      ],
      "metadata": {
        "id": "owix73ESmNmC"
      }
    },
    {
      "cell_type": "markdown",
      "source": [
        "#### **Problem #1.1**\n",
        "Output the vector below in ket notation."
      ],
      "metadata": {
        "id": "EAWcDHc4frpB"
      }
    },
    {
      "cell_type": "code",
      "source": [
        "vec = [1/np.sqrt(2), 1/np.sqrt(2)]"
      ],
      "metadata": {
        "id": "7xNsj3j2nIuN"
      },
      "execution_count": null,
      "outputs": []
    },
    {
      "cell_type": "code",
      "source": [
        "cirq.dirac_notation(vec)# COMPLETE THIS CODE"
      ],
      "metadata": {
        "id": "a2zAhRoBnIrI",
        "outputId": "c2eb4c54-fc88-47b6-c387-26fd72155747",
        "colab": {
          "base_uri": "https://localhost:8080/",
          "height": 35
        }
      },
      "execution_count": null,
      "outputs": [
        {
          "output_type": "execute_result",
          "data": {
            "text/plain": [
              "'0.71|0⟩ + 0.71|1⟩'"
            ],
            "application/vnd.google.colaboratory.intrinsic+json": {
              "type": "string"
            }
          },
          "metadata": {},
          "execution_count": 14
        }
      ]
    },
    {
      "cell_type": "markdown",
      "source": [
        "#### **Problem #1.2**\n",
        "Output the final state vector of the circuit, `circuit`, below in ket notation."
      ],
      "metadata": {
        "id": "1x4DUKnugS3m"
      }
    },
    {
      "cell_type": "code",
      "source": [
        "# @title\n",
        "num_qubits = 4\n",
        "qubits = cirq.NamedQubit.range(num_qubits, prefix = 'q')\n",
        "circuit = cirq.Circuit()\n",
        "circuit.append(cirq.H(qubits[0]))\n",
        "\n",
        "for i in range(num_qubits - 1):\n",
        "  circuit.append(cirq.CNOT(qubits[i], qubits[i+1]))\n",
        "\n",
        "print(circuit)"
      ],
      "metadata": {
        "colab": {
          "base_uri": "https://localhost:8080/"
        },
        "id": "nLNg6Fw_gNaQ",
        "outputId": "fadb5fea-675b-4a36-e4ae-f7f4d622a9fc"
      },
      "execution_count": null,
      "outputs": [
        {
          "output_type": "stream",
          "name": "stdout",
          "text": [
            "q0: ───H───@───────────\n",
            "           │\n",
            "q1: ───────X───@───────\n",
            "               │\n",
            "q2: ───────────X───@───\n",
            "                   │\n",
            "q3: ───────────────X───\n"
          ]
        }
      ]
    },
    {
      "cell_type": "code",
      "source": [
        "# COMPLETE THIS CODE\n",
        "state_vector = cirq.final_state_vector(circuit)\n",
        "cirq.dirac_notation(state_vector)"
      ],
      "metadata": {
        "id": "68boLu6QnPbG",
        "outputId": "b9734ddb-8519-4cbf-bfbe-63030f023c6a",
        "colab": {
          "base_uri": "https://localhost:8080/",
          "height": 35
        }
      },
      "execution_count": null,
      "outputs": [
        {
          "output_type": "execute_result",
          "data": {
            "text/plain": [
              "'0.71|0000⟩ + 0.71|1111⟩'"
            ],
            "application/vnd.google.colaboratory.intrinsic+json": {
              "type": "string"
            }
          },
          "metadata": {},
          "execution_count": 13
        }
      ]
    },
    {
      "cell_type": "markdown",
      "source": [
        "#### **Problem #1.3**\n",
        "Output the final state vector of the circuit, `my_circuit`, below in ket notation."
      ],
      "metadata": {
        "id": "h0VCYVwyhDpV"
      }
    },
    {
      "cell_type": "code",
      "source": [
        "# @title\n",
        "my_qubits = cirq.NamedQubit.range(4, prefix=\"q\")\n",
        "my_circuit = cirq.Circuit()\n",
        "my_gates = [cirq.X, cirq.H, cirq.X, cirq.H]\n",
        "\n",
        "for i in range(4):\n",
        "  gate = my_gates[i]\n",
        "  my_circuit.append(gate(my_qubits[i]))\n",
        "\n",
        "my_circuit"
      ],
      "metadata": {
        "colab": {
          "base_uri": "https://localhost:8080/",
          "height": 139
        },
        "id": "k79HCY4tg-ac",
        "outputId": "a7742685-d7b0-47b1-82f9-fabbfd02618d"
      },
      "execution_count": null,
      "outputs": [
        {
          "output_type": "execute_result",
          "data": {
            "text/plain": [
              "q0: ───X───\n",
              "\n",
              "q1: ───H───\n",
              "\n",
              "q2: ───X───\n",
              "\n",
              "q3: ───H───"
            ],
            "text/html": [
              "<pre style=\"overflow: auto; white-space: pre;\">q0: ───X───\n",
              "\n",
              "q1: ───H───\n",
              "\n",
              "q2: ───X───\n",
              "\n",
              "q3: ───H───</pre>"
            ]
          },
          "metadata": {},
          "execution_count": 16
        }
      ]
    },
    {
      "cell_type": "code",
      "source": [
        "# COMPLETE THIS CODE\n",
        "state_vector = cirq.final_state_vector(my_circuit)\n",
        "cirq.dirac_notation(state_vector)"
      ],
      "metadata": {
        "id": "wZRgO9kNnTzs",
        "outputId": "3c42bd56-32dc-40cb-ffc4-3943854b0480",
        "colab": {
          "base_uri": "https://localhost:8080/",
          "height": 35
        }
      },
      "execution_count": null,
      "outputs": [
        {
          "output_type": "execute_result",
          "data": {
            "text/plain": [
              "'0.5|1010⟩ + 0.5|1011⟩ + 0.5|1110⟩ + 0.5|1111⟩'"
            ],
            "application/vnd.google.colaboratory.intrinsic+json": {
              "type": "string"
            }
          },
          "metadata": {},
          "execution_count": 17
        }
      ]
    },
    {
      "cell_type": "markdown",
      "source": [
        "<a name=\"p2\"></a>\n",
        "\n",
        "---\n",
        "## **Part 2: Quantum Circuits**\n",
        "---\n",
        "In this part, you will review how to create and work with quantum circuits in Cirq."
      ],
      "metadata": {
        "id": "r8AWmZ2mhoUC"
      }
    },
    {
      "cell_type": "markdown",
      "source": [
        "#### **Problem #2.1**\n",
        "Create a three qubits and an empty circuit. Put the first qubit in a superposition. Modify the circuit such that the first qubit and the second qubit are always in the same state and the first qubit and the third qubit are alwas in opposite states. Output the final state vector of your circuit in ket notation."
      ],
      "metadata": {
        "id": "GUIdSZt9hyJP"
      }
    },
    {
      "cell_type": "code",
      "source": [
        "my_qubits = cirq.NamedQubit.range(3, prefix=\"q\") # COMPLETE THIS CODE\n",
        "my_circuit = cirq.Circuit() # COMPLETE THIS CODE\n",
        "\n",
        "my_circuit.append(cirq.H(my_qubits[0]))\n",
        "my_circuit.append(cirq.CX(my_qubits[0], my_qubits[1]))\n",
        "my_circuit.append(cirq.CX(my_qubits[0], my_qubits[2]))\n",
        "my_circuit.append(cirq.X(my_qubits[2]))\n",
        "\n",
        "my_circuit"
      ],
      "metadata": {
        "id": "4nKnGqQXnV8P",
        "outputId": "7b84f508-7d45-4d97-c90e-8b0ae6898d00",
        "colab": {
          "base_uri": "https://localhost:8080/",
          "height": 104
        }
      },
      "execution_count": null,
      "outputs": [
        {
          "output_type": "execute_result",
          "data": {
            "text/plain": [
              "q0: ───H───@───@───────\n",
              "           │   │\n",
              "q1: ───────X───┼───────\n",
              "               │\n",
              "q2: ───────────X───X───"
            ],
            "text/html": [
              "<pre style=\"overflow: auto; white-space: pre;\">q0: ───H───@───@───────\n",
              "           │   │\n",
              "q1: ───────X───┼───────\n",
              "               │\n",
              "q2: ───────────X───X───</pre>"
            ]
          },
          "metadata": {},
          "execution_count": 19
        }
      ]
    },
    {
      "cell_type": "code",
      "source": [
        "state_vector = cirq.final_state_vector(my_circuit)\n",
        "cirq.dirac_notation(state_vector)"
      ],
      "metadata": {
        "id": "jz_jHPaWTX4U",
        "outputId": "a1d4a59e-1428-4ea5-d169-7cc9cc85f43b",
        "colab": {
          "base_uri": "https://localhost:8080/",
          "height": 35
        }
      },
      "execution_count": null,
      "outputs": [
        {
          "output_type": "execute_result",
          "data": {
            "text/plain": [
              "'0.71|001⟩ + 0.71|110⟩'"
            ],
            "application/vnd.google.colaboratory.intrinsic+json": {
              "type": "string"
            }
          },
          "metadata": {},
          "execution_count": 20
        }
      ]
    },
    {
      "cell_type": "markdown",
      "source": [
        "#### **Problem #2.2**\n",
        "Append a measurement to each qubit on your circuit from Problem #2.1. Simulate the results of your circuit 100 times. Output the results on a histogram."
      ],
      "metadata": {
        "id": "HZfKwHGUjIXT"
      }
    },
    {
      "cell_type": "code",
      "source": [
        "my_circuit.append(cirq.measure(my_qubits))\n",
        "my_circuit# COMPLETE THIS CODE"
      ],
      "metadata": {
        "id": "x1J7G5i3neEW",
        "outputId": "ec0dfa2d-98d9-480b-d3e2-7758f4f19ae5",
        "colab": {
          "base_uri": "https://localhost:8080/",
          "height": 104
        }
      },
      "execution_count": null,
      "outputs": [
        {
          "output_type": "execute_result",
          "data": {
            "text/plain": [
              "q0: ───H───@───@───────M───\n",
              "           │   │       │\n",
              "q1: ───────X───┼───────M───\n",
              "               │       │\n",
              "q2: ───────────X───X───M───"
            ],
            "text/html": [
              "<pre style=\"overflow: auto; white-space: pre;\">q0: ───H───@───@───────M───\n",
              "           │   │       │\n",
              "q1: ───────X───┼───────M───\n",
              "               │       │\n",
              "q2: ───────────X───X───M───</pre>"
            ]
          },
          "metadata": {},
          "execution_count": 21
        }
      ]
    },
    {
      "cell_type": "code",
      "source": [
        "# COMPLETE THIS CODE\n",
        "sim = cirq.Simulator()\n",
        "result = sim.run(my_circuit, repetitions=100)\n",
        "hist = cirq.plot_state_histogram(result, plt.subplot(), title = 'Qubit States', xlabel = 'States', ylabel = 'Occurrences', tick_label=binary_labels(3))# COMPLETE THIS CODE\n",
        "plt.show()"
      ],
      "metadata": {
        "id": "Q4xhWFB-njUf",
        "outputId": "3edac7b0-a393-400d-f5b3-0bab0bb2e27f",
        "colab": {
          "base_uri": "https://localhost:8080/",
          "height": 460
        }
      },
      "execution_count": null,
      "outputs": [
        {
          "output_type": "display_data",
          "data": {
            "text/plain": [
              "<Figure size 640x480 with 1 Axes>"
            ],
            "image/png": "[encoded data removed]"
          },
          "metadata": {}
        }
      ]
    },
    {
      "cell_type": "markdown",
      "source": [
        "####**Problem #2.3**\n",
        "Create 4 qubits and an empty circuit. Apply an H gate and a Z gate to each qubit. Append a measurement to each and simulate the circuit 100 times. Output the results on a histogram."
      ],
      "metadata": {
        "id": "PpgkvCYQj1W8"
      }
    },
    {
      "cell_type": "code",
      "source": [
        "my_qubits = cirq.NamedQubit.range(4, prefix=\"q\") # COMPLETE THIS CODE\n",
        "my_circuit = cirq.Circuit() # COMPLETE THIS CODE\n",
        "\n",
        "#for i in range(4):\n",
        "#  my_circuit.append(cirq.H(my_qubits[i]))\n",
        "#  my_circuit.append(cirq.Z(my_qubits[i]))\n",
        "\n",
        "my_circuit.append(cirq.H.on_each(my_qubits))\n",
        "my_circuit.append(cirq.Z.on_each(my_qubits))\n",
        "my_circuit.append(cirq.measure(my_qubits))\n",
        "my_circuit"
      ],
      "metadata": {
        "id": "QkYY6gJJnqrn",
        "outputId": "e68a350d-3b14-467a-93bc-52d01378bace",
        "colab": {
          "base_uri": "https://localhost:8080/",
          "height": 139
        }
      },
      "execution_count": null,
      "outputs": [
        {
          "output_type": "execute_result",
          "data": {
            "text/plain": [
              "q0: ───H───Z───M───\n",
              "               │\n",
              "q1: ───H───Z───M───\n",
              "               │\n",
              "q2: ───H───Z───M───\n",
              "               │\n",
              "q3: ───H───Z───M───"
            ],
            "text/html": [
              "<pre style=\"overflow: auto; white-space: pre;\">q0: ───H───Z───M───\n",
              "               │\n",
              "q1: ───H───Z───M───\n",
              "               │\n",
              "q2: ───H───Z───M───\n",
              "               │\n",
              "q3: ───H───Z───M───</pre>"
            ]
          },
          "metadata": {},
          "execution_count": 60
        }
      ]
    },
    {
      "cell_type": "code",
      "source": [
        "# COMPLETE THIS CODE\n",
        "sim = cirq.Simulator()\n",
        "result = sim.run(my_circuit, repetitions=10000)\n",
        "hist = cirq.plot_state_histogram(result, plt.subplot(), title = 'Qubit States', xlabel = 'States', ylabel = 'Occurrences', tick_label=binary_labels(4))# COMPLETE THIS CODE\n",
        "plt.show()"
      ],
      "metadata": {
        "id": "o9JT4hnMnqhp",
        "outputId": "5ef2d35e-12c2-4d52-89bd-0650a2481b58",
        "colab": {
          "base_uri": "https://localhost:8080/",
          "height": 460
        }
      },
      "execution_count": null,
      "outputs": [
        {
          "output_type": "display_data",
          "data": {
            "text/plain": [
              "<Figure size 640x480 with 1 Axes>"
            ],
            "image/png": "[encoded data removed]"
          },
          "metadata": {}
        }
      ]
    },
    {
      "cell_type": "code",
      "source": [
        "hist = cirq.plot_state_histogram(result, plt.subplot(), title = 'Qubit States', xlabel = 'States', ylabel = 'Occurrences', tick_label=binary_labels(4))# COMPLETE THIS CODE\n",
        "\n",
        "plt.show()"
      ],
      "metadata": {
        "id": "xsIc3bZlnqeW",
        "outputId": "e74d50c6-3487-4951-9455-c448cbeeead4",
        "colab": {
          "base_uri": "https://localhost:8080/",
          "height": 460
        }
      },
      "execution_count": null,
      "outputs": [
        {
          "output_type": "display_data",
          "data": {
            "text/plain": [
              "<Figure size 640x480 with 1 Axes>"
            ],
            "image/png": "[encoded data removed]"
          },
          "metadata": {}
        }
      ]
    },
    {
      "cell_type": "markdown",
      "source": [
        "####**Problem #2.4**\n",
        "Modify the circuit below such that the final state vector is: $$0.5|000 \\rangle + 0.5|010 \\rangle + 0.5|101 \\rangle + 0.5|111 \\rangle$$"
      ],
      "metadata": {
        "id": "7iJosn_ck-Ke"
      }
    },
    {
      "cell_type": "code",
      "source": [
        "my_qubits = cirq.NamedQubit.range(3, prefix=\"q\")\n",
        "my_circuit = cirq.Circuit()\n",
        "\n",
        "my_circuit.append(cirq.H(my_qubits[0]))\n",
        "my_circuit.append(cirq.H(my_qubits[1]))\n",
        "my_circuit.append(cirq.CX(my_qubits[0], my_qubits[2]))\n",
        "\n",
        "my_circuit"
      ],
      "metadata": {
        "colab": {
          "base_uri": "https://localhost:8080/",
          "height": 104
        },
        "id": "h08VgORok5yg",
        "outputId": "716a46a3-12e4-4624-9537-f2ad8a431f21"
      },
      "execution_count": null,
      "outputs": [
        {
          "output_type": "execute_result",
          "data": {
            "text/plain": [
              "q0: ───H───@───\n",
              "           │\n",
              "q1: ───H───┼───\n",
              "           │\n",
              "q2: ───────X───"
            ],
            "text/html": [
              "<pre style=\"overflow: auto; white-space: pre;\">q0: ───H───@───\n",
              "           │\n",
              "q1: ───H───┼───\n",
              "           │\n",
              "q2: ───────X───</pre>"
            ]
          },
          "metadata": {},
          "execution_count": 55
        }
      ]
    },
    {
      "cell_type": "code",
      "source": [
        "# COMPLETE THIS CODE\n",
        "my_circuit.append(cirq.measure(my_qubits))\n",
        "sim = cirq.Simulator()\n",
        "result = sim.run(my_circuit, repetitions=100)\n",
        "\n",
        "hist = cirq.plot_state_histogram(result, plt.subplot(), title = 'Qubit States', xlabel = 'States', ylabel = 'Occurrences', tick_label=binary_labels(3))# COMPLETE THIS CODE\n",
        "plt.show()"
      ],
      "metadata": {
        "id": "jak0u-pan8D0",
        "outputId": "9c308aaf-9ef4-4b7e-89b6-99962e216f93",
        "colab": {
          "base_uri": "https://localhost:8080/",
          "height": 460
        }
      },
      "execution_count": null,
      "outputs": [
        {
          "output_type": "display_data",
          "data": {
            "text/plain": [
              "<Figure size 640x480 with 1 Axes>"
            ],
            "image/png": "[encoded data removed]"
          },
          "metadata": {}
        }
      ]
    },
    {
      "cell_type": "markdown",
      "source": [
        "# End of Lab\n",
        "\n",
        "---\n",
        "\n",
        "© 2024 The Coding School, All rights reserved"
      ],
      "metadata": {
        "id": "OOQFbLB2m1Ea"
      }
    }
  ]
}