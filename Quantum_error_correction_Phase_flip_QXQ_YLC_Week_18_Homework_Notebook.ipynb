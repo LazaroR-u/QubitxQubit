{
  "nbformat": 4,
  "nbformat_minor": 0,
  "metadata": {
    "colab": {
      "provenance": [],
      "include_colab_link": true
    },
    "kernelspec": {
      "name": "python3",
      "display_name": "Python 3"
    },
    "language_info": {
      "name": "python"
    }
  },
  "cells": [
    {
      "cell_type": "markdown",
      "metadata": {
        "id": "view-in-github",
        "colab_type": "text"
      },
      "source": [
        "<a href=\"https://colab.research.google.com/github/LazaroR-u/QubitxQubit/blob/main/Quantum_error_correction_Phase_flip_QXQ_YLC_Week_18_Homework_Notebook.ipynb\" target=\"_parent\"><img src=\"https://colab.research.google.com/assets/colab-badge.svg\" alt=\"Open In Colab\"/></a>"
      ]
    },
    {
      "cell_type": "markdown",
      "source": [
        "# **Homework 18: Quantum Error Correction**\n",
        "---\n",
        "\n",
        "### **Description**\n",
        "In this week's homework, you will implement a phase flip error correcting code.\n",
        "\n",
        "<br>\n",
        "\n",
        "### **Structure**\n",
        "**Part 1**: [Phase Flip Code](#p1)\n",
        "\n",
        "\n",
        "\n",
        "<br>\n",
        "\n",
        "### **Learning Objectives**\n",
        "By the end of this homework, you will:\n",
        "* Recognize how to implement a bit flip code using cirq.\n",
        "* Recognize how to test an error correcting code using cirq generally and with noise models.\n",
        "\n",
        "<br>\n",
        "\n",
        "### **Resources**\n",
        "* [Noisy Simulations Cheat Sheet\n",
        "](https://docs.google.com/document/d/1Ex2m3dp5-_z8XN8EiBv6PUptHWrTLDpsKYU662oTy4A/edit#heading=h.exb19quwqzr9)\n",
        "\n",
        "* [Cirq Cheat Sheet](https://docs.google.com/document/d/1j0vEwtS6fK-tD1DWAPry4tJdxEiq8fwMtXuYNGRhK_M)\n",
        "\n",
        "<br>\n",
        "\n",
        "**Before starting, run the code below to import all necessary functions and libraries.**\n"
      ],
      "metadata": {
        "id": "mbZXQ3rA3NwL"
      }
    },
    {
      "cell_type": "code",
      "source": [
        "import random\n",
        "import matplotlib.pyplot as plt\n",
        "import numpy as np\n",
        "\n",
        "def binary_labels(num_qubits):\n",
        "    return [bin(x)[2:].zfill(num_qubits) for x in range(2 ** num_qubits)]\n",
        "plt.rcParams.update({'font.size': 8})\n",
        "\n",
        "try:\n",
        "    import cirq\n",
        "except ImportError:\n",
        "    print(\"installing cirq...\")\n",
        "    !pip install cirq --quiet\n",
        "    import cirq\n",
        "    print(\"installed cirq.\")"
      ],
      "metadata": {
        "id": "YAvvLhRIoqYp",
        "colab": {
          "base_uri": "https://localhost:8080/"
        },
        "outputId": "124da415-dac4-43c6-938f-d674109d2e65"
      },
      "execution_count": null,
      "outputs": [
        {
          "output_type": "stream",
          "name": "stdout",
          "text": [
            "installing cirq...\n",
            "\u001b[2K     \u001b[90m━━━━━━━━━━━━━━━━━━━━━━━━━━━━━━━━━━━━━━━━\u001b[0m \u001b[32m1.8/1.8 MB\u001b[0m \u001b[31m8.0 MB/s\u001b[0m eta \u001b[36m0:00:00\u001b[0m\n",
            "\u001b[2K     \u001b[90m━━━━━━━━━━━━━━━━━━━━━━━━━━━━━━━━━━━━━━━━\u001b[0m \u001b[32m143.1/143.1 kB\u001b[0m \u001b[31m5.4 MB/s\u001b[0m eta \u001b[36m0:00:00\u001b[0m\n",
            "\u001b[2K     \u001b[90m━━━━━━━━━━━━━━━━━━━━━━━━━━━━━━━━━━━━━━━━\u001b[0m \u001b[32m598.8/598.8 kB\u001b[0m \u001b[31m4.4 MB/s\u001b[0m eta \u001b[36m0:00:00\u001b[0m\n",
            "\u001b[2K     \u001b[90m━━━━━━━━━━━━━━━━━━━━━━━━━━━━━━━━━━━━━━━━\u001b[0m \u001b[32m60.9/60.9 kB\u001b[0m \u001b[31m1.0 MB/s\u001b[0m eta \u001b[36m0:00:00\u001b[0m\n",
            "\u001b[2K     \u001b[90m━━━━━━━━━━━━━━━━━━━━━━━━━━━━━━━━━━━━━━━━\u001b[0m \u001b[32m66.2/66.2 kB\u001b[0m \u001b[31m1.5 MB/s\u001b[0m eta \u001b[36m0:00:00\u001b[0m\n",
            "\u001b[2K     \u001b[90m━━━━━━━━━━━━━━━━━━━━━━━━━━━━━━━━━━━━━━━━\u001b[0m \u001b[32m596.5/596.5 kB\u001b[0m \u001b[31m15.4 MB/s\u001b[0m eta \u001b[36m0:00:00\u001b[0m\n",
            "\u001b[2K     \u001b[90m━━━━━━━━━━━━━━━━━━━━━━━━━━━━━━━━━━━━━━━━\u001b[0m \u001b[32m223.8/223.8 kB\u001b[0m \u001b[31m10.7 MB/s\u001b[0m eta \u001b[36m0:00:00\u001b[0m\n",
            "\u001b[2K     \u001b[90m━━━━━━━━━━━━━━━━━━━━━━━━━━━━━━━━━━━━━━━━\u001b[0m \u001b[32m229.9/229.9 kB\u001b[0m \u001b[31m24.3 MB/s\u001b[0m eta \u001b[36m0:00:00\u001b[0m\n",
            "\u001b[?25h  Preparing metadata (setup.py) ... \u001b[?25l\u001b[?25hdone\n",
            "\u001b[2K     \u001b[90m━━━━━━━━━━━━━━━━━━━━━━━━━━━━━━━━━━━━━━━━\u001b[0m \u001b[32m151.7/151.7 kB\u001b[0m \u001b[31m12.6 MB/s\u001b[0m eta \u001b[36m0:00:00\u001b[0m\n",
            "\u001b[2K     \u001b[90m━━━━━━━━━━━━━━━━━━━━━━━━━━━━━━━━━━━━━━━━\u001b[0m \u001b[32m45.6/45.6 kB\u001b[0m \u001b[31m4.5 MB/s\u001b[0m eta \u001b[36m0:00:00\u001b[0m\n",
            "\u001b[?25h  Preparing metadata (setup.py) ... \u001b[?25l\u001b[?25hdone\n",
            "\u001b[2K     \u001b[90m━━━━━━━━━━━━━━━━━━━━━━━━━━━━━━━━━━━━━━━━\u001b[0m \u001b[32m1.6/1.6 MB\u001b[0m \u001b[31m29.1 MB/s\u001b[0m eta \u001b[36m0:00:00\u001b[0m\n",
            "\u001b[2K     \u001b[90m━━━━━━━━━━━━━━━━━━━━━━━━━━━━━━━━━━━━━━━━\u001b[0m \u001b[32m151.7/151.7 kB\u001b[0m \u001b[31m9.3 MB/s\u001b[0m eta \u001b[36m0:00:00\u001b[0m\n",
            "\u001b[2K     \u001b[90m━━━━━━━━━━━━━━━━━━━━━━━━━━━━━━━━━━━━━━━━\u001b[0m \u001b[32m151.7/151.7 kB\u001b[0m \u001b[31m7.7 MB/s\u001b[0m eta \u001b[36m0:00:00\u001b[0m\n",
            "\u001b[2K     \u001b[90m━━━━━━━━━━━━━━━━━━━━━━━━━━━━━━━━━━━━━━━━\u001b[0m \u001b[32m147.4/147.4 kB\u001b[0m \u001b[31m14.1 MB/s\u001b[0m eta \u001b[36m0:00:00\u001b[0m\n",
            "\u001b[2K     \u001b[90m━━━━━━━━━━━━━━━━━━━━━━━━━━━━━━━━━━━━━━━━\u001b[0m \u001b[32m147.4/147.4 kB\u001b[0m \u001b[31m11.1 MB/s\u001b[0m eta \u001b[36m0:00:00\u001b[0m\n",
            "\u001b[2K     \u001b[90m━━━━━━━━━━━━━━━━━━━━━━━━━━━━━━━━━━━━━━━━\u001b[0m \u001b[32m147.4/147.4 kB\u001b[0m \u001b[31m12.3 MB/s\u001b[0m eta \u001b[36m0:00:00\u001b[0m\n",
            "\u001b[2K     \u001b[90m━━━━━━━━━━━━━━━━━━━━━━━━━━━━━━━━━━━━━━━━\u001b[0m \u001b[32m142.7/142.7 kB\u001b[0m \u001b[31m12.3 MB/s\u001b[0m eta \u001b[36m0:00:00\u001b[0m\n",
            "\u001b[2K     \u001b[90m━━━━━━━━━━━━━━━━━━━━━━━━━━━━━━━━━━━━━━━━\u001b[0m \u001b[32m85.5/85.5 kB\u001b[0m \u001b[31m7.6 MB/s\u001b[0m eta \u001b[36m0:00:00\u001b[0m\n",
            "\u001b[2K     \u001b[90m━━━━━━━━━━━━━━━━━━━━━━━━━━━━━━━━━━━━━━━━\u001b[0m \u001b[32m85.1/85.1 kB\u001b[0m \u001b[31m5.5 MB/s\u001b[0m eta \u001b[36m0:00:00\u001b[0m\n",
            "\u001b[2K     \u001b[90m━━━━━━━━━━━━━━━━━━━━━━━━━━━━━━━━━━━━━━━━\u001b[0m \u001b[32m84.7/84.7 kB\u001b[0m \u001b[31m6.6 MB/s\u001b[0m eta \u001b[36m0:00:00\u001b[0m\n",
            "\u001b[2K     \u001b[90m━━━━━━━━━━━━━━━━━━━━━━━━━━━━━━━━━━━━━━━━\u001b[0m \u001b[32m83.6/83.6 kB\u001b[0m \u001b[31m7.5 MB/s\u001b[0m eta \u001b[36m0:00:00\u001b[0m\n",
            "\u001b[2K     \u001b[90m━━━━━━━━━━━━━━━━━━━━━━━━━━━━━━━━━━━━━━━━\u001b[0m \u001b[32m83.3/83.3 kB\u001b[0m \u001b[31m6.3 MB/s\u001b[0m eta \u001b[36m0:00:00\u001b[0m\n",
            "\u001b[2K     \u001b[90m━━━━━━━━━━━━━━━━━━━━━━━━━━━━━━━━━━━━━━━━\u001b[0m \u001b[32m83.4/83.4 kB\u001b[0m \u001b[31m6.9 MB/s\u001b[0m eta \u001b[36m0:00:00\u001b[0m\n",
            "\u001b[2K     \u001b[90m━━━━━━━━━━━━━━━━━━━━━━━━━━━━━━━━━━━━━━━━\u001b[0m \u001b[32m83.2/83.2 kB\u001b[0m \u001b[31m11.1 MB/s\u001b[0m eta \u001b[36m0:00:00\u001b[0m\n",
            "\u001b[2K     \u001b[90m━━━━━━━━━━━━━━━━━━━━━━━━━━━━━━━━━━━━━━━━\u001b[0m \u001b[32m82.5/82.5 kB\u001b[0m \u001b[31m4.7 MB/s\u001b[0m eta \u001b[36m0:00:00\u001b[0m\n",
            "\u001b[2K     \u001b[90m━━━━━━━━━━━━━━━━━━━━━━━━━━━━━━━━━━━━━━━━\u001b[0m \u001b[32m81.0/81.0 kB\u001b[0m \u001b[31m10.6 MB/s\u001b[0m eta \u001b[36m0:00:00\u001b[0m\n",
            "\u001b[2K     \u001b[90m━━━━━━━━━━━━━━━━━━━━━━━━━━━━━━━━━━━━━━━━\u001b[0m \u001b[32m81.0/81.0 kB\u001b[0m \u001b[31m9.4 MB/s\u001b[0m eta \u001b[36m0:00:00\u001b[0m\n",
            "\u001b[2K     \u001b[90m━━━━━━━━━━━━━━━━━━━━━━━━━━━━━━━━━━━━━━━━\u001b[0m \u001b[32m80.8/80.8 kB\u001b[0m \u001b[31m9.9 MB/s\u001b[0m eta \u001b[36m0:00:00\u001b[0m\n",
            "\u001b[2K     \u001b[90m━━━━━━━━━━━━━━━━━━━━━━━━━━━━━━━━━━━━━━━━\u001b[0m \u001b[32m80.7/80.7 kB\u001b[0m \u001b[31m10.1 MB/s\u001b[0m eta \u001b[36m0:00:00\u001b[0m\n",
            "\u001b[2K     \u001b[90m━━━━━━━━━━━━━━━━━━━━━━━━━━━━━━━━━━━━━━━━\u001b[0m \u001b[32m81.5/81.5 kB\u001b[0m \u001b[31m9.1 MB/s\u001b[0m eta \u001b[36m0:00:00\u001b[0m\n",
            "\u001b[2K     \u001b[90m━━━━━━━━━━━━━━━━━━━━━━━━━━━━━━━━━━━━━━━━\u001b[0m \u001b[32m90.4/90.4 kB\u001b[0m \u001b[31m9.9 MB/s\u001b[0m eta \u001b[36m0:00:00\u001b[0m\n",
            "\u001b[2K     \u001b[90m━━━━━━━━━━━━━━━━━━━━━━━━━━━━━━━━━━━━━━━━\u001b[0m \u001b[32m117.7/117.7 kB\u001b[0m \u001b[31m14.2 MB/s\u001b[0m eta \u001b[36m0:00:00\u001b[0m\n",
            "\u001b[2K     \u001b[90m━━━━━━━━━━━━━━━━━━━━━━━━━━━━━━━━━━━━━━━━\u001b[0m \u001b[32m60.6/60.6 kB\u001b[0m \u001b[31m6.4 MB/s\u001b[0m eta \u001b[36m0:00:00\u001b[0m\n",
            "\u001b[2K     \u001b[90m━━━━━━━━━━━━━━━━━━━━━━━━━━━━━━━━━━━━━━━━\u001b[0m \u001b[32m71.5/71.5 kB\u001b[0m \u001b[31m8.2 MB/s\u001b[0m eta \u001b[36m0:00:00\u001b[0m\n",
            "\u001b[2K     \u001b[90m━━━━━━━━━━━━━━━━━━━━━━━━━━━━━━━━━━━━━━━━\u001b[0m \u001b[32m3.1/3.1 MB\u001b[0m \u001b[31m32.8 MB/s\u001b[0m eta \u001b[36m0:00:00\u001b[0m\n",
            "\u001b[2K     \u001b[90m━━━━━━━━━━━━━━━━━━━━━━━━━━━━━━━━━━━━━━━━\u001b[0m \u001b[32m1.7/1.7 MB\u001b[0m \u001b[31m40.9 MB/s\u001b[0m eta \u001b[36m0:00:00\u001b[0m\n",
            "\u001b[2K     \u001b[90m━━━━━━━━━━━━━━━━━━━━━━━━━━━━━━━━━━━━━━━━\u001b[0m \u001b[32m117.8/117.8 kB\u001b[0m \u001b[31m12.7 MB/s\u001b[0m eta \u001b[36m0:00:00\u001b[0m\n",
            "\u001b[2K     \u001b[90m━━━━━━━━━━━━━━━━━━━━━━━━━━━━━━━━━━━━━━━━\u001b[0m \u001b[32m69.6/69.6 kB\u001b[0m \u001b[31m9.3 MB/s\u001b[0m eta \u001b[36m0:00:00\u001b[0m\n",
            "\u001b[2K     \u001b[90m━━━━━━━━━━━━━━━━━━━━━━━━━━━━━━━━━━━━━━━━\u001b[0m \u001b[32m526.7/526.7 kB\u001b[0m \u001b[31m43.3 MB/s\u001b[0m eta \u001b[36m0:00:00\u001b[0m\n",
            "\u001b[2K     \u001b[90m━━━━━━━━━━━━━━━━━━━━━━━━━━━━━━━━━━━━━━━━\u001b[0m \u001b[32m58.3/58.3 kB\u001b[0m \u001b[31m7.4 MB/s\u001b[0m eta \u001b[36m0:00:00\u001b[0m\n",
            "\u001b[?25h  Building wheel for lark (setup.py) ... \u001b[?25l\u001b[?25hdone\n",
            "  Building wheel for rpcq (setup.py) ... \u001b[?25l\u001b[?25hdone\n",
            "\u001b[31mERROR: pip's dependency resolver does not currently take into account all the packages that are installed. This behaviour is the source of the following dependency conflicts.\n",
            "referencing 0.33.0 requires attrs>=22.2.0, but you have attrs 21.4.0 which is incompatible.\u001b[0m\u001b[31m\n",
            "\u001b[0minstalled cirq.\n"
          ]
        }
      ]
    },
    {
      "cell_type": "markdown",
      "metadata": {
        "id": "TrXZJK6Q6em2"
      },
      "source": [
        "<a name = \"p1\"></a>\n",
        "\n",
        "---\n",
        "## **Part 1: Phase Flip Code**\n",
        "---\n",
        "\n",
        "In this section, you will implement and explore a 3-qubit phase flip error correcting code. This is very similar to the bit flip code we explored in lab, but dealing with sign flips instead of bit flips.\n",
        "\n",
        "<br>\n",
        "\n",
        "For example, noise could cause $\\frac{1}{\\sqrt 2}(|0\\rangle + |1\\rangle)$ to switch to $\\frac{1}{\\sqrt 2}(|0\\rangle - |1\\rangle)$. In other words, a phase flip error can cause the $|+\\rangle$ state to turn into $|-\\rangle$ and vice-versa."
      ]
    },
    {
      "cell_type": "markdown",
      "metadata": {
        "id": "1d283fd6"
      },
      "source": [
        "#### **Step #1: Encoding**\n",
        "\n",
        "Create a 3-qubit phase flip encoded quantum circuit. Specifically,\n",
        "1. Initialize a circuit with 3 qubits and 1 classical bit.\n",
        "\n",
        "2. Entangle the state of $q_0$ with the other qubits.\n",
        "\n",
        "3. Put all qubits in equal superpositions to correct $|+\\rangle$ and $|-\\rangle$ states from switching instead of $|0\\rangle$ and $|1\\rangle$.\n",
        "\n",
        "**NOTE**: The first two steps are identical to what we do for the bit flip code."
      ]
    },
    {
      "cell_type": "markdown",
      "metadata": {
        "id": "H7WwpyNz-Wwu"
      },
      "source": [
        "##### **1. Initialize a circuit with 3 qubits and 1 classical bit.**"
      ]
    },
    {
      "cell_type": "markdown",
      "metadata": {
        "id": "f77pFh_67Tar"
      },
      "source": [
        "###### **Solution**"
      ]
    },
    {
      "cell_type": "code",
      "execution_count": null,
      "metadata": {
        "id": "75d828f5"
      },
      "outputs": [],
      "source": [
        "qubits = cirq.NamedQubit.range(3, prefix = 'q')\n",
        "encode_circuit = cirq.Circuit()"
      ]
    },
    {
      "cell_type": "markdown",
      "metadata": {
        "id": "7bc01bdb"
      },
      "source": [
        "##### **2. Entangle the state of $q_0$ with the other two qubits.**\n",
        "\n",
        "This can be accomplished by applying two CNOT gates controlled by $q_0$ and targeting the other qubits, $q_1$ and $q_2$."
      ]
    },
    {
      "cell_type": "markdown",
      "metadata": {
        "id": "AYw1LcbS7Xji"
      },
      "source": [
        "###### **Solution**"
      ]
    },
    {
      "cell_type": "code",
      "execution_count": null,
      "metadata": {
        "colab": {
          "base_uri": "https://localhost:8080/",
          "height": 104
        },
        "id": "34a30420",
        "outputId": "7eb0ef39-b5da-4095-89e3-bb839a61dfd7"
      },
      "outputs": [
        {
          "output_type": "execute_result",
          "data": {
            "text/plain": [
              "q0: ───@───@───\n",
              "       │   │\n",
              "q1: ───X───┼───\n",
              "           │\n",
              "q2: ───────X───"
            ],
            "text/html": [
              "<pre style=\"overflow: auto; white-space: pre;\">q0: ───@───@───\n",
              "       │   │\n",
              "q1: ───X───┼───\n",
              "           │\n",
              "q2: ───────X───</pre>"
            ]
          },
          "metadata": {},
          "execution_count": 3
        }
      ],
      "source": [
        "encode_circuit.append(cirq.CNOT(qubits[0], qubits[1]))\n",
        "encode_circuit.append(cirq.CNOT(qubits[0], qubits[2]))\n",
        "\n",
        "encode_circuit"
      ]
    },
    {
      "cell_type": "markdown",
      "source": [
        "##### **3. Put all qubits in equal superpositions to correct $|+\\rangle$ and $|-\\rangle$ states from flipping instead of $|0\\rangle$ and $|1\\rangle$.**"
      ],
      "metadata": {
        "id": "HFbzxh1kXEg-"
      }
    },
    {
      "cell_type": "markdown",
      "metadata": {
        "id": "ntZEOzCwXIPp"
      },
      "source": [
        "###### **Solution**"
      ]
    },
    {
      "cell_type": "code",
      "execution_count": null,
      "metadata": {
        "id": "71a15fe7",
        "outputId": "ca75ff26-10b8-41a6-c072-78ed95ec5d56",
        "colab": {
          "base_uri": "https://localhost:8080/",
          "height": 139
        }
      },
      "outputs": [
        {
          "output_type": "execute_result",
          "data": {
            "text/plain": [
              "           ┌──┐\n",
              "q0: ───@────@─────H───\n",
              "       │    │\n",
              "q1: ───X────┼H────────\n",
              "            │\n",
              "q2: ────────X─────H───\n",
              "           └──┘"
            ],
            "text/html": [
              "<pre style=\"overflow: auto; white-space: pre;\">           ┌──┐\n",
              "q0: ───@────@─────H───\n",
              "       │    │\n",
              "q1: ───X────┼H────────\n",
              "            │\n",
              "q2: ────────X─────H───\n",
              "           └──┘</pre>"
            ]
          },
          "metadata": {},
          "execution_count": 4
        }
      ],
      "source": [
        "encode_circuit.append(cirq.H.on_each(qubits))\n",
        "\n",
        "encode_circuit"
      ]
    },
    {
      "cell_type": "markdown",
      "metadata": {
        "id": "f11c3700"
      },
      "source": [
        "#### **Step #2: Sending Over Noisy Channel**\n",
        "\n",
        "Simulate a phase flip error on $q_0$. **Hint**: What gate flips a qubit from $|+\\rangle$ to $|-\\rangle$?"
      ]
    },
    {
      "cell_type": "markdown",
      "metadata": {
        "id": "0PKlKejx7wH7"
      },
      "source": [
        "##### **Solution**"
      ]
    },
    {
      "cell_type": "code",
      "execution_count": null,
      "metadata": {
        "colab": {
          "base_uri": "https://localhost:8080/",
          "height": 34
        },
        "id": "e5b7c299",
        "outputId": "b77e5595-4738-43ad-862c-0cab5de57268"
      },
      "outputs": [
        {
          "output_type": "execute_result",
          "data": {
            "text/plain": [
              "q0: ───Z───"
            ],
            "text/html": [
              "<pre style=\"overflow: auto; white-space: pre;\">q0: ───Z───</pre>"
            ]
          },
          "metadata": {},
          "execution_count": 5
        }
      ],
      "source": [
        "noisy_channel_circuit = cirq.Circuit()\n",
        "\n",
        "noisy_channel_circuit.append(cirq.Z(qubits[0]))\n",
        "\n",
        "noisy_channel_circuit"
      ]
    },
    {
      "cell_type": "markdown",
      "metadata": {
        "id": "24a5f692"
      },
      "source": [
        "#### **Step #3: Error Detection**\n",
        "\n",
        "Next, we will detect if there's been an error by checking the *phase* (do the phases agree with each other or are they diffent?) of $q_0$ with the other qubits by *bringing all the qubits out of superposition* (H gates) and then checking the parity of the $q_0$ with the ancilla qubits by applying two CNOTs controlled by $q_0$ and targeting the ancilla qubits.\n",
        "\n",
        "**NOTE**: Only the part dealing with superposition is different from the bit flip code."
      ]
    },
    {
      "cell_type": "markdown",
      "metadata": {
        "id": "hHtVEu3x8BV_"
      },
      "source": [
        "##### **Solution**"
      ]
    },
    {
      "cell_type": "code",
      "execution_count": null,
      "metadata": {
        "colab": {
          "base_uri": "https://localhost:8080/",
          "height": 104
        },
        "id": "5423d82d",
        "outputId": "2e293e6e-11a7-4f29-b338-bf53b41ce92d"
      },
      "outputs": [
        {
          "output_type": "execute_result",
          "data": {
            "text/plain": [
              "q0: ───H───@───@───\n",
              "           │   │\n",
              "q1: ───H───X───┼───\n",
              "               │\n",
              "q2: ───H───────X───"
            ],
            "text/html": [
              "<pre style=\"overflow: auto; white-space: pre;\">q0: ───H───@───@───\n",
              "           │   │\n",
              "q1: ───H───X───┼───\n",
              "               │\n",
              "q2: ───H───────X───</pre>"
            ]
          },
          "metadata": {},
          "execution_count": 6
        }
      ],
      "source": [
        "detection_circuit = cirq.Circuit()\n",
        "\n",
        "detection_circuit.append(cirq.H.on_each(qubits))\n",
        "\n",
        "detection_circuit.append(cirq.CNOT(qubits[0], qubits[1]))\n",
        "detection_circuit.append(cirq.CNOT(qubits[0], qubits[2]))\n",
        "\n",
        "detection_circuit"
      ]
    },
    {
      "cell_type": "markdown",
      "metadata": {
        "id": "662390a3"
      },
      "source": [
        "#### **Step #4: Error Correction**\n",
        "\n",
        "We will now create a circuit to update $q_0$ if both $q_1$ and $q_2$ have detected a bit flip so that $q_0$ stores the correct logical state. Specifically, apply the Toffoli (CCX) gate controlled by $q_2$ and $q_1$, targeting $q_0$."
      ]
    },
    {
      "cell_type": "markdown",
      "metadata": {
        "id": "p0uoiMC5BTsv"
      },
      "source": [
        "##### **Solution**"
      ]
    },
    {
      "cell_type": "code",
      "execution_count": null,
      "metadata": {
        "colab": {
          "base_uri": "https://localhost:8080/",
          "height": 104
        },
        "id": "32b03da9",
        "outputId": "9a7cb83b-67b9-4a20-e7ae-8b12874e8307"
      },
      "outputs": [
        {
          "output_type": "execute_result",
          "data": {
            "text/plain": [
              "q0: ───X───\n",
              "       │\n",
              "q1: ───@───\n",
              "       │\n",
              "q2: ───@───"
            ],
            "text/html": [
              "<pre style=\"overflow: auto; white-space: pre;\">q0: ───X───\n",
              "       │\n",
              "q1: ───@───\n",
              "       │\n",
              "q2: ───@───</pre>"
            ]
          },
          "metadata": {},
          "execution_count": 7
        }
      ],
      "source": [
        "correction_circuit = cirq.Circuit()\n",
        "\n",
        "correction_circuit.append(cirq.CCNOT(qubits[2], qubits[1], qubits[0]))\n",
        "\n",
        "correction_circuit"
      ]
    },
    {
      "cell_type": "markdown",
      "metadata": {
        "id": "1fe6fac3"
      },
      "source": [
        "#### **Step #5: Decoding**\n",
        "\n",
        "Lastly, the logical state has been stored in $q_0$, so we will\n",
        "create a decoding circuit to measure this qubit in order to decode the final logical state."
      ]
    },
    {
      "cell_type": "markdown",
      "metadata": {
        "id": "IbQQefqip8wH"
      },
      "source": [
        "##### **Solution**"
      ]
    },
    {
      "cell_type": "code",
      "execution_count": null,
      "metadata": {
        "colab": {
          "base_uri": "https://localhost:8080/",
          "height": 34
        },
        "id": "zQ_EbpygB7k_",
        "outputId": "83409a02-397c-4b7b-ccba-cdbd702bbeb4"
      },
      "outputs": [
        {
          "output_type": "execute_result",
          "data": {
            "text/plain": [
              "q0: ───M───"
            ],
            "text/html": [
              "<pre style=\"overflow: auto; white-space: pre;\">q0: ───M───</pre>"
            ]
          },
          "metadata": {},
          "execution_count": 8
        }
      ],
      "source": [
        "decode_circuit = cirq.Circuit()\n",
        "\n",
        "decode_circuit.append(cirq.measure(qubits[0]))\n",
        "\n",
        "decode_circuit"
      ]
    },
    {
      "cell_type": "markdown",
      "metadata": {
        "id": "3Ziwo6sDrM2Z"
      },
      "source": [
        "#### **Problem #1.1**\n",
        "\n",
        "Now, let's simulate the results of performing each of these steps by adding the circuits together and simulating 100 times (to ensure our error correction code really works).\n",
        "\n",
        "<br>\n",
        "\n",
        "**Before looking at the result, let's ask ourselves: what state should we expect to measure?**"
      ]
    },
    {
      "cell_type": "markdown",
      "metadata": {
        "id": "-IMOmG7RrX2J"
      },
      "source": [
        "##### **Solution**"
      ]
    },
    {
      "cell_type": "code",
      "source": [
        "phaseflip_circuit = encode_circuit + noisy_channel_circuit + detection_circuit + correction_circuit + decode_circuit\n",
        "\n",
        "sim = cirq.Simulator()\n",
        "result = sim.run(phaseflip_circuit, repetitions = 100)\n",
        "\n",
        "hist = cirq.plot_state_histogram(result, plt.subplot(), title = 'Qubit States', xlabel = 'States', ylabel = 'Occurrences', tick_label=binary_labels(1))\n",
        "\n",
        "plt.show()"
      ],
      "metadata": {
        "colab": {
          "base_uri": "https://localhost:8080/",
          "height": 460
        },
        "id": "1FvausCYqHx1",
        "outputId": "0c242c04-2337-4254-b5dd-0f7417899727"
      },
      "execution_count": null,
      "outputs": [
        {
          "output_type": "display_data",
          "data": {
            "text/plain": [
              "<Figure size 640x480 with 1 Axes>"
            ],
            "image/png": "[encoded data removed]"
          },
          "metadata": {}
        }
      ]
    },
    {
      "cell_type": "markdown",
      "metadata": {
        "id": "3b1655fb"
      },
      "source": [
        "#### **Problem #1.2**\n",
        "\n",
        "Use your code from above so that the logical qubit is in the $|+\\rangle$ state instead of the $|0\\rangle$ state.\n",
        "\n",
        "<br>\n",
        "\n",
        "**NOTE**: There are several ways to accomplish this, but the traditional way is to apply a *logical gate* to all *physical qubits* after encoding."
      ]
    },
    {
      "cell_type": "markdown",
      "metadata": {
        "id": "7QEFjN7IDvBh"
      },
      "source": [
        "##### **Solution**"
      ]
    },
    {
      "cell_type": "code",
      "execution_count": null,
      "metadata": {
        "colab": {
          "base_uri": "https://localhost:8080/",
          "height": 460
        },
        "id": "_Bz1ksXxtQla",
        "outputId": "c138e70e-e470-40bc-ca05-fbd0d0462f2e"
      },
      "outputs": [
        {
          "output_type": "display_data",
          "data": {
            "text/plain": [
              "<Figure size 640x480 with 1 Axes>"
            ],
            "image/png": "[encoded data removed]"
          },
          "metadata": {}
        }
      ],
      "source": [
        "# PREPARATION\n",
        "prepare_circuit = cirq.Circuit()\n",
        "prepare_circuit.append(cirq.H(qubits[0]))\n",
        "\n",
        "# SIMULATING\n",
        "phaseflip_circuit = prepare_circuit + encode_circuit + noisy_channel_circuit + detection_circuit + correction_circuit + decode_circuit\n",
        "\n",
        "sim = cirq.Simulator()\n",
        "result = sim.run(phaseflip_circuit, repetitions = 100)\n",
        "\n",
        "hist = cirq.plot_state_histogram(result, plt.subplot(), title = 'Qubit States', xlabel = 'States', ylabel = 'Occurrences', tick_label=binary_labels(1))\n",
        "\n",
        "plt.show()"
      ]
    },
    {
      "cell_type": "markdown",
      "metadata": {
        "id": "CSZs50lxu8aG"
      },
      "source": [
        "#### **Problem #1.3**\n",
        "\n",
        "You hopefully saw a mix of 0s and 1s indicating a roughly equal superposition. However, it's hard to tell if this is $|+\\rangle$ or if it's incurred an error and is now $|-\\rangle$ or even a different superposition.\n",
        "\n",
        "<br>\n",
        "\n",
        "Add a gate to $q_0$ right before decoding to rotate it's state into the computational basis so that we can be sure if the error has been corrected. **Hint**: Assuming $q_0$ is in $|+\\rangle$ state, what gate can we apply so that it ends up as $|0\\rangle$?"
      ]
    },
    {
      "cell_type": "markdown",
      "metadata": {
        "id": "TNsPoar6u8aS"
      },
      "source": [
        "##### **Solution**"
      ]
    },
    {
      "cell_type": "code",
      "source": [
        "# PREPARATION\n",
        "prepare_circuit = cirq.Circuit()\n",
        "prepare_circuit.append(cirq.H(qubits[0]))\n",
        "\n",
        "\n",
        "# SIMULATING\n",
        "phaseflip_circuit = prepare_circuit + encode_circuit + noisy_channel_circuit + detection_circuit + correction_circuit + cirq.H(qubits[0]) + decode_circuit\n",
        "\n",
        "sim = cirq.Simulator()\n",
        "result = sim.run(phaseflip_circuit, repetitions = 100)\n",
        "\n",
        "hist = cirq.plot_state_histogram(result, plt.subplot(), title = 'Qubit States', xlabel = 'States', ylabel = 'Occurrences', tick_label=binary_labels(1))\n",
        "\n",
        "plt.show()"
      ],
      "metadata": {
        "colab": {
          "base_uri": "https://localhost:8080/",
          "height": 460
        },
        "id": "0vxX8hGgt5IR",
        "outputId": "d72251bd-95ae-4504-c87e-8c2178685283"
      },
      "execution_count": null,
      "outputs": [
        {
          "output_type": "display_data",
          "data": {
            "text/plain": [
              "<Figure size 640x480 with 1 Axes>"
            ],
            "image/png": "[encoded data removed]"
          },
          "metadata": {}
        }
      ]
    },
    {
      "cell_type": "markdown",
      "metadata": {
        "id": "XAfJFhIjGHCc"
      },
      "source": [
        "#### **Problem #1.4**\n",
        "\n",
        "Modify the code so that the logical qubit is in the $|+\\rangle$ state, but there is a phase flip error on $q_1$ instead of $q_0$.\n",
        "\n",
        "<br>\n",
        "\n",
        "**Does our code still work?**"
      ]
    },
    {
      "cell_type": "markdown",
      "metadata": {
        "id": "zahN_f0bGQ5t"
      },
      "source": [
        "##### **Solution**"
      ]
    },
    {
      "cell_type": "code",
      "execution_count": null,
      "metadata": {
        "colab": {
          "base_uri": "https://localhost:8080/",
          "height": 460
        },
        "id": "e1VxHRWiGQ5t",
        "outputId": "4bf5d62c-c006-4865-c88d-2ccd8d489b85"
      },
      "outputs": [
        {
          "output_type": "display_data",
          "data": {
            "text/plain": [
              "<Figure size 640x480 with 1 Axes>"
            ],
            "image/png": "[encoded data removed]"
          },
          "metadata": {}
        }
      ],
      "source": [
        "# PREPARATION\n",
        "prepare_circuit = cirq.Circuit()\n",
        "prepare_circuit.append(cirq.H(qubits[0]))\n",
        "\n",
        "\n",
        "# NOISY CHANNEL\n",
        "noisy_channel_circuit = cirq.Circuit()\n",
        "noisy_channel_circuit.append(cirq.Z(qubits[1]))\n",
        "\n",
        "\n",
        "# SIMULATING\n",
        "phaseflip_circuit = prepare_circuit + encode_circuit + noisy_channel_circuit + detection_circuit + correction_circuit + cirq.H(qubits[0]) + decode_circuit\n",
        "\n",
        "sim = cirq.Simulator()\n",
        "result = sim.run(phaseflip_circuit, repetitions = 100)\n",
        "\n",
        "hist = cirq.plot_state_histogram(result, plt.subplot(), title = 'Qubit States', xlabel = 'States', ylabel = 'Occurrences', tick_label=binary_labels(1))\n",
        "\n",
        "plt.show()"
      ]
    },
    {
      "cell_type": "markdown",
      "metadata": {
        "id": "Yfi_t_FIESSx"
      },
      "source": [
        "#### **Problem #1.5**\n",
        "\n",
        "Modify the code so that the logical qubit is in the $|0\\rangle$ state, but there is a phase flip error on *both* $q_1$ and $q_2$.\n",
        "\n",
        "<br>\n",
        "\n",
        "**Does our code still work?**"
      ]
    },
    {
      "cell_type": "markdown",
      "metadata": {
        "id": "RDoCy0LNEool"
      },
      "source": [
        "##### **Solution**"
      ]
    },
    {
      "cell_type": "code",
      "execution_count": null,
      "metadata": {
        "colab": {
          "base_uri": "https://localhost:8080/",
          "height": 460
        },
        "id": "4vuTGzPwEool",
        "outputId": "34291fbf-f42f-4bdf-9b64-06d2928adcae"
      },
      "outputs": [
        {
          "output_type": "display_data",
          "data": {
            "text/plain": [
              "<Figure size 640x480 with 1 Axes>"
            ],
            "image/png": "[encoded data removed]"
          },
          "metadata": {}
        }
      ],
      "source": [
        "# PREPARATION\n",
        "prepare_circuit = cirq.Circuit()\n",
        "prepare_circuit.append(cirq.I(qubits[0]))\n",
        "\n",
        "\n",
        "# NOISY CHANNEL\n",
        "noisy_channel_circuit = cirq.Circuit()\n",
        "noisy_channel_circuit.append(cirq.Z.on_each(qubits[0], qubits[1]))\n",
        "\n",
        "\n",
        "# SIMULATING\n",
        "phaseflip_circuit = prepare_circuit + encode_circuit + noisy_channel_circuit + detection_circuit + correction_circuit + decode_circuit\n",
        "\n",
        "sim = cirq.Simulator()\n",
        "result = sim.run(phaseflip_circuit, repetitions = 100)\n",
        "\n",
        "hist = cirq.plot_state_histogram(result, plt.subplot(), title = 'Qubit States', xlabel = 'States', ylabel = 'Occurrences', tick_label=binary_labels(1))\n",
        "\n",
        "plt.show()"
      ]
    },
    {
      "cell_type": "markdown",
      "metadata": {
        "id": "ULaMUOazE9kl"
      },
      "source": [
        "### **Followup Activities**\n",
        "\n",
        "To further hone your understanding of the bit flip code, consider trying the following activities:\n",
        "* Remove parts of the circuit such as the parity checks or error correcting Toffoli to see what happens and understand their role better.\n",
        "* Alter this code to correct for an error on a different qubit.\n",
        "* Expand this 3 qubit error correcting code to a 4+ qubit error correcting code. Can these sustain more errors than the one above? Are there patterns to how many errors an *n* qubit code can handle?"
      ]
    },
    {
      "cell_type": "markdown",
      "source": [
        "#End of notebook\n",
        "---\n",
        "© 2024 The Coding School, All rights reserved"
      ],
      "metadata": {
        "id": "7dzC09dLlEhm"
      }
    }
  ]
}